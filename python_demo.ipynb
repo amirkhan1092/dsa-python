{
 "cells": [
  {
   "cell_type": "code",
   "execution_count": 23,
   "source": [
    "\"\"\"Python Demo Class \"\"\"\r\n",
    "\r\n",
    "\r\n",
    "\"\"\"\r\n",
    "1. Data Type\r\n",
    "    1. Number \r\n",
    "        a) int\r\n",
    "        b) float\r\n",
    "        c) complex \r\n",
    "    2. String \r\n",
    "        a) unicode string \r\n",
    "    3. list\r\n",
    "    4. tuple \r\n",
    "    5. dictionary \r\n",
    "    6. sets\r\n",
    "    7. bool\r\n",
    "    8. range\r\n",
    "2. Standard Input/Output\r\n",
    "    input()/print()\r\n",
    "3. flow control \r\n",
    "    if-else\r\n",
    "4. looping \r\n",
    "    1. for loop\r\n",
    "    2. while loop\r\n",
    "\r\n",
    "5. function\r\n",
    "6. OPPs \r\n",
    "\r\n",
    "\r\n",
    "\r\n",
    "7. GUI\r\n",
    "8. Django/flask/...\r\n",
    "9. Pandas/numpy/scipy/opencv\r\n",
    "\r\n",
    "\r\n",
    "\r\n",
    "\r\n",
    "\"\"\"\r\n",
    "\r\n",
    "\r\n",
    "\r\n",
    "a = 12\r\n",
    "b = 32\r\n",
    "if a > b:\r\n",
    "    c = a + b\r\n",
    "else: \r\n",
    "    c = b - a    \r\n",
    "print(f'Result of {a} and {b} is {c}')\r\n",
    "\r\n"
   ],
   "outputs": [
    {
     "output_type": "stream",
     "name": "stdout",
     "text": [
      "Sum of 12 and 32 is 44\n"
     ]
    }
   ],
   "metadata": {}
  },
  {
   "cell_type": "code",
   "execution_count": 3,
   "source": [
    "\"\"\"Pyramid pattern\"\"\"\r\n",
    "\r\n",
    "\"\"\"\r\n",
    "1\r\n",
    "2 3\r\n",
    "4 5 6\r\n",
    "7 8 9 10\r\n",
    "\r\n",
    "\"\"\"\r\n",
    "\r\n",
    "lines = int(input())\r\n",
    "# lines = 3\r\n",
    "num = 1\r\n",
    "\r\n",
    "for i in range(lines):\r\n",
    "    for k in range(i+1):\r\n",
    "        print(num, end=' ')\r\n",
    "        num += 1\r\n",
    "    print()        \r\n",
    "\r\n",
    "\r\n"
   ],
   "outputs": [
    {
     "output_type": "stream",
     "name": "stdout",
     "text": [
      "1 \n",
      "2 3 \n",
      "4 5 6 \n",
      "7 8 9 10 \n",
      "11 12 13 14 15 \n",
      "16 17 18 19 20 21 \n"
     ]
    }
   ],
   "metadata": {}
  },
  {
   "cell_type": "code",
   "execution_count": 26,
   "source": [
    "\"prime number Program in Python\"\r\n",
    "\r\n",
    "\r\n",
    "num = int(input(\"Enter the number \"))\r\n",
    "count = 0\r\n",
    "for i in range(1, num+1):\r\n",
    "    if num % i == 0:\r\n",
    "        count += 1\r\n",
    "\r\n",
    "\r\n",
    "if count == 2:\r\n",
    "    print(\"Prime number \")\r\n",
    "else:\r\n",
    "    print(\"Not a prime number\")    \r\n"
   ],
   "outputs": [
    {
     "output_type": "stream",
     "name": "stdout",
     "text": [
      "Not a prime number\n"
     ]
    }
   ],
   "metadata": {}
  },
  {
   "cell_type": "code",
   "execution_count": 6,
   "source": [
    "\"\"\"\r\n",
    "Pattern Pyramid Alphabet \r\n",
    "\r\n",
    "A\r\n",
    "A B\r\n",
    "A B C\r\n",
    "A B C D..\r\n",
    "\r\n",
    "or \r\n",
    "\r\n",
    "A\r\n",
    "B C\r\n",
    "D E F\r\n",
    "G H I J...\r\n",
    "\r\n",
    "\r\n",
    "\"\"\"\r\n",
    "lines = int(input('Enter the number of the lines '))\r\n",
    "char = 65\r\n",
    "for i in range(lines):\r\n",
    "    for j in range(i+1):\r\n",
    "        print(chr(char), end=' ')\r\n",
    "        char += 1 \r\n",
    "    print()    \r\n"
   ],
   "outputs": [
    {
     "output_type": "stream",
     "name": "stdout",
     "text": [
      "A \n",
      "B C \n",
      "D E F \n",
      "G H I J \n"
     ]
    }
   ],
   "metadata": {}
  },
  {
   "cell_type": "code",
   "execution_count": null,
   "source": [
    "\"Pattern\"\r\n",
    "\"\"\"\r\n",
    "*\r\n",
    "* *\r\n",
    "* * *\r\n",
    "* * * *\r\n",
    "* * * * * \r\n",
    "\"\"\""
   ],
   "outputs": [],
   "metadata": {}
  },
  {
   "cell_type": "code",
   "execution_count": null,
   "source": [
    "\"Temp warnings\"\r\n",
    "\r\n",
    "temp = int(input('Enter the input temperature'))\r\n",
    "\r\n",
    "print(\"Process start \")\r\n",
    "if temp > 50:\r\n",
    "    print(\"Temp greater than limit found, Alert!\")\r\n",
    "\r\n",
    "print(\"Process stop \")"
   ],
   "outputs": [],
   "metadata": {}
  }
 ],
 "metadata": {
  "orig_nbformat": 4,
  "language_info": {
   "name": "python",
   "version": "3.7.2",
   "mimetype": "text/x-python",
   "codemirror_mode": {
    "name": "ipython",
    "version": 3
   },
   "pygments_lexer": "ipython3",
   "nbconvert_exporter": "python",
   "file_extension": ".py"
  },
  "kernelspec": {
   "name": "python3",
   "display_name": "Python 3.7.2 32-bit"
  },
  "interpreter": {
   "hash": "8786318122129ba10eb40c9c8a2ede770fe6a9df50dfcd3c6edc33520e4c5279"
  }
 },
 "nbformat": 4,
 "nbformat_minor": 2
}