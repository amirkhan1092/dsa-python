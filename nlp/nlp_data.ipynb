{
 "cells": [
  {
   "cell_type": "code",
   "execution_count": 9,
   "source": [
    "import json\r\n",
    "import nltk\r\n",
    "\r\n",
    "f = open(\"polls.json\")\r\n",
    "\r\n",
    "data = json.load(f)\r\n"
   ],
   "outputs": [],
   "metadata": {}
  },
  {
   "cell_type": "code",
   "execution_count": 17,
   "source": [
    "\r\n",
    "\r\n",
    "# print( data[0])\r\n",
    "\r\n",
    "for i in range(len(data)):\r\n",
    "    print(data[i]['content'])\r\n"
   ],
   "outputs": [
    {
     "output_type": "stream",
     "name": "stdout",
     "text": [
      "I am fine being in a long-distance relationship where the partner and I are living in different cities or countries.\n",
      "I as a woman am comfortable with my partner being shorter than me.\n",
      "Will you like your partner to be a professional?\n",
      "I am close to my extended family and enjoy spending time with them.\n",
      "Will you consider being in a relationship with someone with children?\n",
      "I consider myself to be a good listener. I listen without passing any judgements.\n",
      "Will you consider being in a relationship with someone smart, great personality but dark complexioned?\n",
      "I have experienced a break-up.\n",
      "I can laugh on myself.\n",
      "I consider marriage, live-in, companionship as committed relationships. All 3 require similar maturity and responsibility.\n",
      "Will you have a joint bank account with the partner?\n",
      "How many dates before it becomes official?\n",
      "My family will accept my choice of partner\n",
      "I am sure about my relationship expectation. It is as stated in my profile.\n",
      "Times are changing. The woman in the relationship can be the bread winner. Will it be acceptable to you if your partner earns more than you.\n",
      "Dear women, will it be acceptable if your partner is ambitious (has hobbies, likes to manage the home etc) and you are the primary bead winner.\n",
      "We know how it works, the girl leaves her family to live with the boy's family. What if there is a role reversal. What will you say to your partner if she suggests living with her family once official.\n",
      "Will relocation to another city or country be an issue if a need arises?\n",
      "In Relationship/Marriage, Combination of which 3 matters most to you among these 5 - Physical, Spiritual, Emotional, Financial & Intellectual connection with the other half.\n",
      "What are your thoughts around being a parent?\n",
      "Expressing / communicating my thoughts come naturally to me.\n",
      "I am open to meeting a divorcee.\n",
      "I am open to meeting someone who is separated and filing for their divorce.\n",
      "Raj and Sana liked each otherâ€™s profile but neither initiated an interest because both came from different religious faith. What is your stand?\n",
      "Raj and Sana  were enjoying each otherâ€™s company till Sana learnt that Raj does not earn enough to support her financially. This was a deal-breaker for her. What are your views about your prospect partner being able to support you financially.\n",
      "We all goof-up. Even the best, those who consider themselves to be perfectionists also goof-up. How easy is it for you to say a SORRY?\n",
      "Dear women what will make you respond to a prospect match on andwemet ?\n",
      "Saying a Thank you. How often do you sit back reflect and convey your gratitude to someone you love? (and this 'someone' can be your family, friend - anyone)\n",
      "We wish good health to your families and you. How will you respond when askedâ€“ Have you been vaccinated?\n",
      "I enjoy cookingâ€¦\n",
      "Family and friendsâ€™ gatherings is when I expect\n",
      "Family and friendsâ€™ gatherings are where I expect my partner to\n",
      "How do you like to spend Fridays?\n",
      "Kavya and Karan connected at all levels; it was 3 months of knowing each other. They were discussing about moving in together, till Karan realized that Kavya had anger issues and now he was rethinking if they should continue their relationship. Are you someone who has anger issues?\n",
      "Will you be comfortable to explore a relationship with an asexual partner?\n",
      "Zain, 37 years old, he was keen to fall in love be with someone special. However, he turned down interests that were sent by his family and was not comfortable going on other dating platforms as he feared rejection, till he came across andwemet where expectations around â€˜sex driveâ€™ are discussed upfront. Zain has low sex drive which he expressed, and he also met someone here and today they are a couple. Dear subscribers â€“ What about you, will you be comfortable being in a relationship with someone with low sex drive?\n",
      "Will you be comfortable being with a partner from another religion?\n",
      "Favourite Foreplay\n",
      "Dear Ladies, Will you consider entering into a Relationship/Marriage with a person younger than you?\n",
      "Would you rather be forced to\n",
      "What happens between two partners post an argument?\n",
      "What are the things you look for in an ideal man ?\n",
      "Would you like to marry a Mountaineer?\n",
      "#andwemet ask: Today, when you post an anonymous sneak-peek question, it is displayed to all from the opposite gender. Instead, will you like to post the sneak-peek question anonymously only to those prospect matches that catch your interest and view their selected option. #buildingandwemetwithyou\n",
      "What would you like to do on a weekend?\n",
      "Conflict free peaceful relationship is possible ?\n",
      "In an argument I usually get\n",
      "fgbdfhbdhbs\n",
      "I am keen to get married but will prefer us to live in our respective homes. Does this work for you?\n",
      "I do want to be in a committed relationship and be with someone special but because I am not great when it comes to expressing and thus, I am misunderstood. Will you be open to knowing someone as me?\n",
      "I am doing well professionally and earning a decent salary; however, I feel itâ€™s the manâ€™s responsibility to bring bread to the table. I will be keen to know how many agree with my statement.\n",
      "Would you like to be with someone who is religious and prays daily?\n",
      "Are you willing to date someone a lot younger than you ? Say 7-10 years.\n",
      "Would you be interested in someone who is chubby?\n",
      "What is your relationship expectation?\n",
      "What are your views on ghosting?\n",
      "I did suffer depression. It has not returned for sometime ( a few years ) and I am doing fine. Will you be open to knowing someone who has suffered depression.\n",
      "Do degrees and education matter during your search for prospect partner?\n",
      "Will food habits matter when it comes to choosing your partner?\n",
      "I will always like to financially support my parents. It is possible that at some point they come and live with us. How would you react to this statement when asked to you.\n",
      "Would you be comfortable living with parents?\n",
      "Anyone from Bangalore here?\n",
      "Are you willing to stay with the partner with high sexual drive including multiple sexual partners?\n",
      "Does age of your partner matter to you?\n",
      "I will prefer being a home-maker once I get married, though currently I am in a 9-5 job. Will you be fine with it?\n",
      "Dear Ladies, how many will be keen to have a turbaned Sikh as a partner. I am a well-educated,  confident and have a loving family.\n",
      "test for noti pllid\n"
     ]
    }
   ],
   "metadata": {}
  }
 ],
 "metadata": {
  "orig_nbformat": 4,
  "language_info": {
   "name": "python",
   "version": "3.7.2",
   "mimetype": "text/x-python",
   "codemirror_mode": {
    "name": "ipython",
    "version": 3
   },
   "pygments_lexer": "ipython3",
   "nbconvert_exporter": "python",
   "file_extension": ".py"
  },
  "kernelspec": {
   "name": "python3",
   "display_name": "Python 3.7.2 32-bit"
  },
  "interpreter": {
   "hash": "8786318122129ba10eb40c9c8a2ede770fe6a9df50dfcd3c6edc33520e4c5279"
  }
 },
 "nbformat": 4,
 "nbformat_minor": 2
}