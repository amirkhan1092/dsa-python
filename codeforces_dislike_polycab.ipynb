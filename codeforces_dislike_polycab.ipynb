{
 "cells": [
  {
   "cell_type": "code",
   "execution_count": null,
   "source": [
    "\"\"\"A. Dislike of Threes\r\n",
    "time limit per test1 second\r\n",
    "memory limit per test256 megabytes\r\n",
    "inputstandard input\r\n",
    "outputstandard output\r\n",
    "Polycarp doesn't like integers that are divisible by 3 or end with the digit 3 in their decimal representation. Integers that meet both conditions are disliked by Polycarp, too.\r\n",
    "\r\n",
    "Polycarp starts to write out the positive (greater than 0) integers which he likes: 1,2,4,5,7,8,10,11,14,16,…. Output the k-th element of this sequence (the elements are numbered from 1).\r\n",
    "\r\n",
    "Input\r\n",
    "The first line contains one integer t (1≤t≤100) — the number of test cases. Then t test cases follow.\r\n",
    "\r\n",
    "Each test case consists of one line containing one integer k (1≤k≤1000).\r\n",
    "\r\n",
    "Output\r\n",
    "For each test case, output in a separate line one integer x — the k-th element of the sequence that was written out by Polycarp.\r\n",
    "\r\n",
    "Example\r\n",
    "inputCopy\r\n",
    "10\r\n",
    "1\r\n",
    "2\r\n",
    "3\r\n",
    "4\r\n",
    "5\r\n",
    "6\r\n",
    "7\r\n",
    "8\r\n",
    "9\r\n",
    "1000\r\n",
    "outputCopy\r\n",
    "1\r\n",
    "2\r\n",
    "4\r\n",
    "5\r\n",
    "7\r\n",
    "8\r\n",
    "10\r\n",
    "11\r\n",
    "14\r\n",
    "1666\"\"\""
   ],
   "outputs": [],
   "metadata": {}
  }
 ],
 "metadata": {
  "orig_nbformat": 4,
  "language_info": {
   "name": "python"
  }
 },
 "nbformat": 4,
 "nbformat_minor": 2
}