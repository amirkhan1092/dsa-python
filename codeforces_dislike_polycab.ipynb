{
 "cells": [
  {
   "cell_type": "code",
   "execution_count": 2,
   "metadata": {},
   "outputs": [
    {
     "data": {
      "text/plain": [
       "\"A. Dislike of Threes\\ntime limit per test1 second\\nmemory limit per test256 megabytes\\ninputstandard input\\noutputstandard output\\nPolycarp doesn't like integers that are divisible by 3 or end with the digit 3 in their decimal representation. Integers that meet both conditions are disliked by Polycarp, too.\\n\\nPolycarp starts to write out the positive (greater than 0) integers which he likes: 1,2,4,5,7,8,10,11,14,16,…. Output the k-th element of this sequence (the elements are numbered from 1).\\n\\nInput\\nThe first line contains one integer t (1≤t≤100) — the number of test cases. Then t test cases follow.\\n\\nEach test case consists of one line containing one integer k (1≤k≤1000).\\n\\nOutput\\nFor each test case, output in a separate line one integer x — the k-th element of the sequence that was written out by Polycarp.\\n\\nExample\\ninputCopy\\n10\\n1\\n2\\n3\\n4\\n5\\n6\\n7\\n8\\n9\\n1000\\noutputCopy\\n1\\n2\\n4\\n5\\n7\\n8\\n10\\n11\\n14\\n1666\""
      ]
     },
     "execution_count": 2,
     "metadata": {},
     "output_type": "execute_result"
    }
   ],
   "source": [
    "\"\"\"A. Dislike of Threes\n",
    "time limit per test1 second\n",
    "memory limit per test256 megabytes\n",
    "inputstandard input\n",
    "outputstandard output\n",
    "Polycarp doesn't like integers that are divisible by 3 or end with the digit 3 in their decimal representation. Integers that meet both conditions are disliked by Polycarp, too.\n",
    "\n",
    "Polycarp starts to write out the positive (greater than 0) integers which he likes: 1,2,4,5,7,8,10,11,14,16,…. Output the k-th element of this sequence (the elements are numbered from 1).\n",
    "\n",
    "Input\n",
    "The first line contains one integer t (1≤t≤100) — the number of test cases. Then t test cases follow.\n",
    "\n",
    "Each test case consists of one line containing one integer k (1≤k≤1000).\n",
    "\n",
    "Output\n",
    "For each test case, output in a separate line one integer x — the k-th element of the sequence that was written out by Polycarp.\n",
    "\n",
    "Example\n",
    "inputCopy\n",
    "10\n",
    "1\n",
    "2\n",
    "3\n",
    "4\n",
    "5\n",
    "6\n",
    "7\n",
    "8\n",
    "9\n",
    "1000\n",
    "outputCopy\n",
    "1\n",
    "2\n",
    "4\n",
    "5\n",
    "7\n",
    "8\n",
    "10\n",
    "11\n",
    "14\n",
    "1666\"\"\""
   ]
  },
  {
   "cell_type": "code",
   "execution_count": 9,
   "metadata": {},
   "outputs": [
    {
     "name": "stdout",
     "output_type": "stream",
     "text": [
      "332\n"
     ]
    }
   ],
   "source": [
    "k = int(input())\n",
    "# out = [i for i in range(100000) if i % 3 != 0 and str(i)[-1] != '3'][k-1]\n",
    "# print(out)\n",
    "i = 0\n",
    "ind = 0\n",
    "while k:\n",
    "    i += 1\n",
    "    if i % 3 != 0 and str(i)[-1] != '3':\n",
    "        k -= 1\n",
    "else:\n",
    "    print(i)\n",
    "\n",
    "\n"
   ]
  },
  {
   "cell_type": "code",
   "execution_count": null,
   "metadata": {},
   "outputs": [],
   "source": []
  }
 ],
 "metadata": {
  "interpreter": {
   "hash": "8786318122129ba10eb40c9c8a2ede770fe6a9df50dfcd3c6edc33520e4c5279"
  },
  "kernelspec": {
   "display_name": "Python 3.7.2 32-bit",
   "name": "python3"
  },
  "language_info": {
   "codemirror_mode": {
    "name": "ipython",
    "version": 3
   },
   "file_extension": ".py",
   "mimetype": "text/x-python",
   "name": "python",
   "nbconvert_exporter": "python",
   "pygments_lexer": "ipython3",
   "version": "3.7.2"
  },
  "orig_nbformat": 4
 },
 "nbformat": 4,
 "nbformat_minor": 2
}
