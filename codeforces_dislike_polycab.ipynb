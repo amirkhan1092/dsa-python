{
 "cells": [
  {
   "cell_type": "code",
   "execution_count": null,
   "source": [
    "\"\"\"A. Dislike of Threes\r\n",
    "time limit per test1 second\r\n",
    "memory limit per test256 megabytes\r\n",
    "inputstandard input\r\n",
    "outputstandard output\r\n",
    "Polycarp doesn't like integers that are divisible by 3 or end with the digit 3 in their decimal representation. Integers that meet both conditions are disliked by Polycarp, too.\r\n",
    "\r\n",
    "Polycarp starts to write out the positive (greater than 0) integers which he likes: 1,2,4,5,7,8,10,11,14,16,…. Output the k-th element of this sequence (the elements are numbered from 1).\r\n",
    "\r\n",
    "Input\r\n",
    "The first line contains one integer t (1≤t≤100) — the number of test cases. Then t test cases follow.\r\n",
    "\r\n",
    "Each test case consists of one line containing one integer k (1≤k≤1000).\r\n",
    "\r\n",
    "Output\r\n",
    "For each test case, output in a separate line one integer x — the k-th element of the sequence that was written out by Polycarp.\r\n",
    "\r\n",
    "Example\r\n",
    "inputCopy\r\n",
    "10\r\n",
    "1\r\n",
    "2\r\n",
    "3\r\n",
    "4\r\n",
    "5\r\n",
    "6\r\n",
    "7\r\n",
    "8\r\n",
    "9\r\n",
    "1000\r\n",
    "outputCopy\r\n",
    "1\r\n",
    "2\r\n",
    "4\r\n",
    "5\r\n",
    "7\r\n",
    "8\r\n",
    "10\r\n",
    "11\r\n",
    "14\r\n",
    "1666\"\"\""
   ],
   "outputs": [],
   "metadata": {}
  },
  {
   "cell_type": "code",
   "execution_count": 8,
   "source": [
    "k = int(input())\r\n",
    "# out = [i for i in range(100000) if i % 3 != 0 and str(i)[-1] != '3'][k-1]\r\n",
    "# print(out)\r\n",
    "i = 0\r\n",
    "ind = 0\r\n",
    "while k:\r\n",
    "    i += 1\r\n",
    "    if i % 3 != 0 and str(i)[-1] != '3':\r\n",
    "        k -= 1\r\n",
    "else:\r\n",
    "    print(i)\r\n",
    "\r\n",
    "\r\n"
   ],
   "outputs": [
    {
     "output_type": "stream",
     "name": "stdout",
     "text": [
      "16\n"
     ]
    }
   ],
   "metadata": {}
  }
 ],
 "metadata": {
  "orig_nbformat": 4,
  "language_info": {
   "name": "python",
   "version": "3.7.2",
   "mimetype": "text/x-python",
   "codemirror_mode": {
    "name": "ipython",
    "version": 3
   },
   "pygments_lexer": "ipython3",
   "nbconvert_exporter": "python",
   "file_extension": ".py"
  },
  "kernelspec": {
   "name": "python3",
   "display_name": "Python 3.7.2 32-bit"
  },
  "interpreter": {
   "hash": "8786318122129ba10eb40c9c8a2ede770fe6a9df50dfcd3c6edc33520e4c5279"
  }
 },
 "nbformat": 4,
 "nbformat_minor": 2
}