{
 "cells": [
  {
   "cell_type": "code",
   "execution_count": 1,
   "metadata": {},
   "outputs": [
    {
     "data": {
      "text/plain": [
       "[]"
      ]
     },
     "execution_count": 1,
     "metadata": {},
     "output_type": "execute_result"
    }
   ],
   "source": [
    "\"\"\"Given an N by M matrix consisting only of 1's and 0's, find the largest rectangle containing only 1's and return its area.\n",
    "\n",
    "For example, given the following matrix:\n",
    "\n",
    "[[1, 0, 0, 0],\n",
    " [1, 0, 1, 1],\n",
    " [1, 0, 1, 1],\n",
    " [0, 1, 0, 0]]\n",
    "Return 4.\"\"\"\n",
    "m = [[1, 0, 0, 0],\n",
    " [1, 0, 1, 1],\n",
    " [1, 0, 1, 1],\n",
    " [0, 1, 0, 0]]\n",
    "\n",
    "for i in range(4):\n",
    "    m[:][:]\n"
   ]
  },
  {
   "cell_type": "code",
   "execution_count": 9,
   "metadata": {},
   "outputs": [
    {
     "name": "stdout",
     "output_type": "stream",
     "text": [
      "*       *\n",
      "**     **\n",
      "***   ***\n",
      "**** ****\n",
      "**** ****\n",
      "***   ***\n",
      "**     **\n",
      "*       *\n"
     ]
    }
   ],
   "source": [
    "N = int(input())+2\n",
    "for i in range(1,N//2):\n",
    "    print('*'*i + ' '*(N-2*i-1)+ '*'*i)\n",
    "for i in range(N//2-1, 0, -1):\n",
    "    print('*'*i + ' '*(N-2*i-1)+ '*'*i)\n"
   ]
  },
  {
   "cell_type": "code",
   "execution_count": 15,
   "metadata": {},
   "outputs": [
    {
     "name": "stdout",
     "output_type": "stream",
     "text": [
      "None <class 'NoneType'>\n"
     ]
    }
   ],
   "source": [
    "input = 'hello'\n",
    "hello = None\n",
    "out = hello or input\n",
    "out = eval(out)\n",
    "print(out, type(out))\n"
   ]
  }
 ],
 "metadata": {
  "interpreter": {
   "hash": "ac63e7d2902d829a95718f514f583b39cb52f10e7c5524becb094a341f2ea3ca"
  },
  "kernelspec": {
   "display_name": "Python 3.10.0 64-bit (windows store)",
   "language": "python",
   "name": "python3"
  },
  "language_info": {
   "codemirror_mode": {
    "name": "ipython",
    "version": 3
   },
   "file_extension": ".py",
   "mimetype": "text/x-python",
   "name": "python",
   "nbconvert_exporter": "python",
   "pygments_lexer": "ipython3",
   "version": "3.10.0"
  },
  "orig_nbformat": 4
 },
 "nbformat": 4,
 "nbformat_minor": 2
}
