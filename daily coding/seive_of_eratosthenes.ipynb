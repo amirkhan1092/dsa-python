{
 "cells": [
  {
   "cell_type": "code",
   "execution_count": null,
   "source": [
    "\"\"\"\r\n",
    "This problem was asked by Square.\r\n",
    "\r\n",
    "The Sieve of Eratosthenes is an algorithm used to generate all prime numbers smaller than N. The method is to take increasingly larger prime numbers, and mark their multiples as composite.\r\n",
    "\r\n",
    "For example, to find all primes less than 100, we would first mark [4, 6, 8, ...] (multiples of two), then [6, 9, 12, ...] (multiples of three), and so on. Once we have done this for all primes less than N, the unmarked numbers that remain will be prime.\r\n",
    "\r\n",
    "Implement this algorithm.\r\n",
    "\r\n",
    "Bonus: Create a generator that produces primes indefinitely (that is, without taking N as an input)\r\n",
    "\"\"\""
   ],
   "outputs": [],
   "metadata": {}
  },
  {
   "cell_type": "code",
   "execution_count": null,
   "source": [
    "def all_prime(lst):\r\n",
    "    pass\r\n",
    "\r\n",
    "\r\n",
    "N = int(input(\"Enter the number N to generate all prime number smaller than N\"))\r\n",
    "possible_number = range(2, N)\r\n",
    "out = all_prime(possible_number)\r\n",
    "print(out)\r\n",
    "\r\n",
    "\r\n"
   ],
   "outputs": [],
   "metadata": {}
  }
 ],
 "metadata": {
  "orig_nbformat": 4,
  "language_info": {
   "name": "python"
  }
 },
 "nbformat": 4,
 "nbformat_minor": 2
}