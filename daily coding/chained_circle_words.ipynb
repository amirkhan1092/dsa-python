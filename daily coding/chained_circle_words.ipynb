{
 "cells": [
  {
   "cell_type": "code",
   "execution_count": 1,
   "metadata": {},
   "outputs": [
    {
     "name": "stdout",
     "output_type": "stream",
     "text": [
      "True\n",
      "True\n",
      "False\n",
      "False\n"
     ]
    }
   ],
   "source": [
    "\n",
    "\n",
    "from typing import Dict, List, Set\n",
    "\n",
    "\n",
    "def check_circle_formation_helper(\n",
    "    word_list: List[str],\n",
    "    start: Dict[str, Set[str]],\n",
    "    end: Dict[str, Set[str]],\n",
    "    curr: str,\n",
    "    start_word: str,\n",
    "    seen: Set[str],\n",
    ") -> bool:\n",
    "    if len(seen) == len(word_list):\n",
    "        if start_word[0] == curr[-1]:\n",
    "            return True\n",
    "        return False\n",
    "    try:\n",
    "        for word in start[curr[-1]]:\n",
    "            if word not in seen:\n",
    "                seen_copy = seen.copy()\n",
    "                seen_copy.add(word)\n",
    "                if check_circle_formation_helper(\n",
    "                    word_list, start, end, word, start_word, seen_copy\n",
    "                ):\n",
    "                    return True\n",
    "    except KeyError:\n",
    "        # the current word's last character isn't present in start dictionary\n",
    "        pass\n",
    "    return False\n",
    "\n",
    "\n",
    "def check_circle_formation(word_list: List[str]) -> bool:\n",
    "    start = {}\n",
    "    end = {}\n",
    "    for word in word_list:\n",
    "        if word[0] not in start:\n",
    "            start[word[0]] = set()\n",
    "        start[word[0]].add(word)\n",
    "        if word[-1] not in end:\n",
    "            end[word[-1]] = set()\n",
    "        end[word[-1]].add(word)\n",
    "    # starting with all words and checking if a circle can be formed\n",
    "    for word in word_list:\n",
    "        if check_circle_formation_helper(\n",
    "            word_list, start, end, word, word, set([word])\n",
    "        ):\n",
    "            return True\n",
    "    return False\n",
    "\n",
    "\n",
    "if __name__ == \"__main__\":\n",
    "    print(\n",
    "        check_circle_formation([\"chair\", \"height\", \"racket\", \"touch\", \"tunic\"])\n",
    "    )  # chair, racket, touch, height, tunic, chair\n",
    "    print(\n",
    "        check_circle_formation([\"height\", \"racket\", \"touch\", \"tunic\", \"car\"])\n",
    "    )  # racket, touch, height, tunic, car, racket\n",
    "    print(\n",
    "        check_circle_formation([\"height\", \"racket\", \"touch\", \"tunic\"])\n",
    "    )  # racket, touch, height, tunic (no looping even though there is a chain)\n",
    "    print(\n",
    "        check_circle_formation([\"height\", \"racket\", \"touch\", \"tunic\", \"cat\"])\n",
    "    )  # no looping"
   ]
  },
  {
   "cell_type": "code",
   "execution_count": 12,
   "metadata": {},
   "outputs": [
    {
     "name": "stdout",
     "output_type": "stream",
     "text": [
      "False\n"
     ]
    }
   ],
   "source": [
    "def chained_circle(ls):\n",
    "    var = 0\n",
    "    st = []\n",
    "    for i in ls:\n",
    "        st.append(i[0])\n",
    "    for i in ls:\n",
    "        if i[-1] in st:\n",
    "            st.remove(i[-1])\n",
    "\n",
    "    return not len(st)\n",
    "\n",
    "\n",
    "# lst = [\"chair\", \"height\", \"racket\", \"touch\", \"tunic\"]\n",
    "lst = [\"height\", \"racket\", \"touch\", \"tunic\", \"cat\"]\n",
    "# lst = [\"height\", \"racket\", \"touch\", \"tunic\", \"car\"]\n",
    "# lst = [\"height\", \"racket\", \"touch\", \"tunic\"]\n",
    "out = chained_circle(lst)\n",
    "print(out)\n",
    "\n"
   ]
  },
  {
   "cell_type": "code",
   "execution_count": 2,
   "metadata": {},
   "outputs": [
    {
     "name": "stdout",
     "output_type": "stream",
     "text": [
      "[1, 1, 1]\n"
     ]
    }
   ],
   "source": [
    "ls = [1, 1, 1, 1]\n",
    "ls.remove(1)\n",
    "print(ls)"
   ]
  }
 ],
 "metadata": {
  "interpreter": {
   "hash": "ac63e7d2902d829a95718f514f583b39cb52f10e7c5524becb094a341f2ea3ca"
  },
  "kernelspec": {
   "display_name": "Python 3.10.1 64-bit (windows store)",
   "language": "python",
   "name": "python3"
  },
  "language_info": {
   "codemirror_mode": {
    "name": "ipython",
    "version": 3
   },
   "file_extension": ".py",
   "mimetype": "text/x-python",
   "name": "python",
   "nbconvert_exporter": "python",
   "pygments_lexer": "ipython3",
   "version": "3.10.2"
  },
  "orig_nbformat": 4
 },
 "nbformat": 4,
 "nbformat_minor": 2
}
