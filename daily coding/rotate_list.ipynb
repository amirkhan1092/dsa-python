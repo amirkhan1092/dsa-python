{
 "cells": [
  {
   "cell_type": "code",
   "execution_count": null,
   "metadata": {},
   "outputs": [],
   "source": [
    "\"\"\"This problem was asked by Facebook.\n",
    "\n",
    "Write a function that rotates a list by k elements. For example, \n",
    "[1, 2, 3, 4, 5, 6] rotated by two becomes [3, 4, 5, 6, 1, 2]. \n",
    "Try solving this without creating a copy of the list. \n",
    "How many swap or move operations do you need?\"\"\""
   ]
  },
  {
   "cell_type": "code",
   "execution_count": 2,
   "metadata": {},
   "outputs": [
    {
     "name": "stdout",
     "output_type": "stream",
     "text": [
      "[43, 4, 7, 1, 2]\n"
     ]
    }
   ],
   "source": [
    "def rotate(lst: list, r: int)-> list:\n",
    "    while r > 0:\n",
    "        lst.append(lst.pop(0))\n",
    "        r -= 1\n",
    "\n",
    "\n",
    "ls = [1, 2, 43, 4, 7]\n",
    "rotation = 2\n",
    "rotate(ls, rotation)\n",
    "print(ls)"
   ]
  }
 ],
 "metadata": {
  "interpreter": {
   "hash": "ac63e7d2902d829a95718f514f583b39cb52f10e7c5524becb094a341f2ea3ca"
  },
  "kernelspec": {
   "display_name": "Python 3.10.0 64-bit (windows store)",
   "name": "python3"
  },
  "language_info": {
   "codemirror_mode": {
    "name": "ipython",
    "version": 3
   },
   "file_extension": ".py",
   "mimetype": "text/x-python",
   "name": "python",
   "nbconvert_exporter": "python",
   "pygments_lexer": "ipython3",
   "version": "3.10.0"
  },
  "orig_nbformat": 4
 },
 "nbformat": 4,
 "nbformat_minor": 2
}
