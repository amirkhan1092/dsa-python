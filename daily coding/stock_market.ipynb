{
 "cells": [
  {
   "cell_type": "markdown",
   "metadata": {},
   "source": [
    "```\n",
    "This problem was asked by Facebook.\n",
    "\n",
    "Given a array of numbers representing the stock prices of a company in chronological order, write a function that \n",
    "calculates the maximum profit you could have made from buying and selling that stock once. You must buy before you can sell it.\n",
    "\n",
    "For example, given [9, 11, 8, 5, 7, 10], you should return 5, \n",
    "since you could buy the stock at 5 dollars and sell it at 10 dollars\n",
    "```"
   ]
  },
  {
   "cell_type": "code",
   "execution_count": 5,
   "metadata": {},
   "outputs": [
    {
     "name": "stdout",
     "output_type": "stream",
     "text": [
      "5\n"
     ]
    }
   ],
   "source": [
    "def max_profit(lst):\n",
    "    mx = 0\n",
    "    for i in range(len(lst)):\n",
    "        for j in range(i+1, len(lst)):\n",
    "            diff = lst[j] - lst[i]\n",
    "            mx = diff if diff > mx else mx\n",
    "            # print(mx)\n",
    "    return mx\n",
    "\n",
    "list_stock_price = [9, 11, 8, 5, 7, 10]\n",
    "mx_res =  max_profit(list_stock_price)\n",
    "print(mx_res)"
   ]
  }
 ],
 "metadata": {
  "interpreter": {
   "hash": "8786318122129ba10eb40c9c8a2ede770fe6a9df50dfcd3c6edc33520e4c5279"
  },
  "kernelspec": {
   "display_name": "Python 3.7.2 32-bit",
   "name": "python3"
  },
  "language_info": {
   "codemirror_mode": {
    "name": "ipython",
    "version": 3
   },
   "file_extension": ".py",
   "mimetype": "text/x-python",
   "name": "python",
   "nbconvert_exporter": "python",
   "pygments_lexer": "ipython3",
   "version": "3.7.2"
  },
  "orig_nbformat": 4
 },
 "nbformat": 4,
 "nbformat_minor": 2
}
