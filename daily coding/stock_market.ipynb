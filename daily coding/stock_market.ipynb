{
 "cells": [
  {
   "cell_type": "markdown",
   "source": [
    "```\r\n",
    "This problem was asked by Facebook.\r\n",
    "\r\n",
    "Given a array of numbers representing the stock prices of a company in chronological order, write a function that \r\n",
    "calculates the maximum profit you could have made from buying and selling that stock once. You must buy before you can sell it.\r\n",
    "\r\n",
    "For example, given [9, 11, 8, 5, 7, 10], you should return 5, \r\n",
    "since you could buy the stock at 5 dollars and sell it at 10 dollars\r\n",
    "```"
   ],
   "metadata": {}
  },
  {
   "cell_type": "code",
   "execution_count": 5,
   "source": [
    "def max_profit(lst):\r\n",
    "    mx = 0\r\n",
    "    for i in range(len(lst)):\r\n",
    "        for j in range(i+1, len(lst)):\r\n",
    "            diff = lst[j] - lst[i]\r\n",
    "            mx = diff if diff > mx else mx\r\n",
    "            # print(mx)\r\n",
    "    return mx\r\n",
    "\r\n",
    "list_stock_price = [9, 11, 8, 5, 7, 10]\r\n",
    "mx_res =  max_profit(list_stock_price)\r\n",
    "print(mx_res)"
   ],
   "outputs": [
    {
     "output_type": "stream",
     "name": "stdout",
     "text": [
      "5\n"
     ]
    }
   ],
   "metadata": {}
  }
 ],
 "metadata": {
  "orig_nbformat": 4,
  "language_info": {
   "name": "python",
   "version": "3.7.2",
   "mimetype": "text/x-python",
   "codemirror_mode": {
    "name": "ipython",
    "version": 3
   },
   "pygments_lexer": "ipython3",
   "nbconvert_exporter": "python",
   "file_extension": ".py"
  },
  "kernelspec": {
   "name": "python3",
   "display_name": "Python 3.7.2 32-bit"
  },
  "interpreter": {
   "hash": "8786318122129ba10eb40c9c8a2ede770fe6a9df50dfcd3c6edc33520e4c5279"
  }
 },
 "nbformat": 4,
 "nbformat_minor": 2
}