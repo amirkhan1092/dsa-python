{
 "cells": [
  {
   "cell_type": "code",
   "execution_count": null,
   "source": [
    "\"\"\"This problem was asked by Quora.\r\n",
    "You are given a list of (website, user) pairs that represent users visiting websites. \r\n",
    "Come up with a program that identifies the top k pairs of websites with the greatest \r\n",
    "similarity.\r\n",
    "For example, suppose k = 1, and the list of tuples is:\r\n",
    "[('a', 1), ('a', 3), ('a', 5),\r\n",
    "('b', 2), ('b', 6),\r\n",
    "('c', 1), ('c', 2), ('c', 3), ('c', 4), ('c', 5)\r\n",
    "('d', 4), ('d', 5), ('d', 6), ('d', 7),\r\n",
    "('e', 1), ('e', 3), ('e': 5), ('e', 6)]\r\n",
    "Then a reasonable similarity metric would most likely conclude that a and e are the \r\n",
    "most similar, so your program should return [('a', 'e')].\"\"\""
   ],
   "outputs": [],
   "metadata": {}
  },
  {
   "cell_type": "code",
   "execution_count": 5,
   "source": [
    "# st = input()\r\n",
    "# web_user_lst = '' \r\n",
    "# while st[-1] != ']':\r\n",
    "#     web_user_lst += st\r\n",
    "#     st = input()\r\n",
    "web_user_lst = '''[('a', 1), ('a', 3), ('a', 5),('b', 2), ('b', 6),\r\n",
    "('c', 1), ('c', 2), ('c', 3), ('c', 4), ('c', 5),\r\n",
    "('d', 4), ('d', 5), ('d', 6), ('d', 7),\r\n",
    "('e', 1), ('e', 3), ('e', 5), ('e', 6)]'''\r\n",
    "\r\n",
    "web_user_lst = eval(web_user_lst)\r\n",
    "print(web_user_lst)\r\n"
   ],
   "outputs": [
    {
     "output_type": "stream",
     "name": "stdout",
     "text": [
      "[('a', 1), ('a', 3), ('a', 5), ('b', 2), ('b', 6), ('c', 1), ('c', 2), ('c', 3), ('c', 4), ('c', 5), ('d', 4), ('d', 5), ('d', 6), ('d', 7), ('e', 1), ('e', 3), ('e', 5), ('e', 6)]\n"
     ]
    }
   ],
   "metadata": {}
  },
  {
   "cell_type": "code",
   "execution_count": 13,
   "source": [
    "dct = {}\r\n",
    "\r\n",
    "for i, j in web_user_lst:\r\n",
    "    if i in dct:\r\n",
    "        dct[i].append(j)\r\n",
    "    else:\r\n",
    "        dct[i] = [j]\r\n",
    "print(dct)    \r\n",
    "\r\n",
    "# dct\r\n"
   ],
   "outputs": [
    {
     "output_type": "stream",
     "name": "stdout",
     "text": [
      "{'a': [1, 3, 5], 'b': [2, 6], 'c': [1, 2, 3, 4, 5], 'd': [4, 5, 6, 7], 'e': [1, 3, 5, 6]}\n"
     ]
    }
   ],
   "metadata": {}
  },
  {
   "cell_type": "code",
   "execution_count": 17,
   "source": [
    "mx = 0\r\n",
    "out = []\r\n",
    "\r\n",
    "for k1 in dct:\r\n",
    "    for k2 in dct:\r\n",
    "        if k1 != k2:\r\n",
    "            count = 0\r\n",
    "            for i1 in range(min(len(dct[k1]), len(dct[k2]))):\r\n",
    "                    if dct[k1][i1] - dct[k2][i1] == 0:\r\n",
    "                        count += 1 \r\n",
    "            if count > mx:\r\n",
    "                mx = count\r\n",
    "                out = [k1, k2] \r\n",
    "print(out)                \r\n",
    "\r\n",
    "            "
   ],
   "outputs": [
    {
     "output_type": "stream",
     "name": "stdout",
     "text": [
      "['a', 'e']\n"
     ]
    }
   ],
   "metadata": {}
  }
 ],
 "metadata": {
  "orig_nbformat": 4,
  "language_info": {
   "name": "python",
   "version": "3.7.2",
   "mimetype": "text/x-python",
   "codemirror_mode": {
    "name": "ipython",
    "version": 3
   },
   "pygments_lexer": "ipython3",
   "nbconvert_exporter": "python",
   "file_extension": ".py"
  },
  "kernelspec": {
   "name": "python3",
   "display_name": "Python 3.7.2 32-bit"
  },
  "interpreter": {
   "hash": "8786318122129ba10eb40c9c8a2ede770fe6a9df50dfcd3c6edc33520e4c5279"
  }
 },
 "nbformat": 4,
 "nbformat_minor": 2
}