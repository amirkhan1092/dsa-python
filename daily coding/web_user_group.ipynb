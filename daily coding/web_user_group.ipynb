{
 "cells": [
  {
   "cell_type": "code",
   "execution_count": null,
   "metadata": {},
   "outputs": [],
   "source": [
    "\"\"\"This problem was asked by Quora.\n",
    "You are given a list of (website, user) pairs that represent users visiting websites. \n",
    "Come up with a program that identifies the top k pairs of websites with the greatest \n",
    "similarity.\n",
    "For example, suppose k = 1, and the list of tuples is:\n",
    "[('a', 1), ('a', 3), ('a', 5),\n",
    "('b', 2), ('b', 6),\n",
    "('c', 1), ('c', 2), ('c', 3), ('c', 4), ('c', 5)\n",
    "('d', 4), ('d', 5), ('d', 6), ('d', 7),\n",
    "('e', 1), ('e', 3), ('e': 5), ('e', 6)]\n",
    "Then a reasonable similarity metric would most likely conclude that a and e are the \n",
    "most similar, so your program should return [('a', 'e')].\"\"\""
   ]
  },
  {
   "cell_type": "code",
   "execution_count": 5,
   "metadata": {},
   "outputs": [
    {
     "name": "stdout",
     "output_type": "stream",
     "text": [
      "[('a', 1), ('a', 3), ('a', 5), ('b', 2), ('b', 6), ('c', 1), ('c', 2), ('c', 3), ('c', 4), ('c', 5), ('d', 4), ('d', 5), ('d', 6), ('d', 7), ('e', 1), ('e', 3), ('e', 5), ('e', 6)]\n"
     ]
    }
   ],
   "source": [
    "# st = input()\n",
    "# web_user_lst = '' \n",
    "# while st[-1] != ']':\n",
    "#     web_user_lst += st\n",
    "#     st = input()\n",
    "web_user_lst = '''[('a', 1), ('a', 3), ('a', 5),('b', 2), ('b', 6),\n",
    "('c', 1), ('c', 2), ('c', 3), ('c', 4), ('c', 5),\n",
    "('d', 4), ('d', 5), ('d', 6), ('d', 7),\n",
    "('e', 1), ('e', 3), ('e', 5), ('e', 6)]'''\n",
    "\n",
    "web_user_lst = eval(web_user_lst)\n",
    "print(web_user_lst)\n"
   ]
  },
  {
   "cell_type": "code",
   "execution_count": 13,
   "metadata": {},
   "outputs": [
    {
     "name": "stdout",
     "output_type": "stream",
     "text": [
      "{'a': [1, 3, 5], 'b': [2, 6], 'c': [1, 2, 3, 4, 5], 'd': [4, 5, 6, 7], 'e': [1, 3, 5, 6]}\n"
     ]
    }
   ],
   "source": [
    "dct = {}\n",
    "\n",
    "for i, j in web_user_lst:\n",
    "    if i in dct:\n",
    "        dct[i].append(j)\n",
    "    else:\n",
    "        dct[i] = [j]\n",
    "print(dct)    \n",
    "\n",
    "# dct\n"
   ]
  },
  {
   "cell_type": "code",
   "execution_count": 17,
   "metadata": {},
   "outputs": [
    {
     "name": "stdout",
     "output_type": "stream",
     "text": [
      "['a', 'e']\n"
     ]
    }
   ],
   "source": [
    "mx = 0\n",
    "out = []\n",
    "\n",
    "for k1 in dct:\n",
    "    for k2 in dct:\n",
    "        if k1 != k2:\n",
    "            count = 0\n",
    "            for i1 in range(min(len(dct[k1]), len(dct[k2]))):\n",
    "                    if dct[k1][i1] - dct[k2][i1] == 0:\n",
    "                        count += 1 \n",
    "            if count > mx:\n",
    "                mx = count\n",
    "                out = [k1, k2] \n",
    "print(out)                \n",
    "\n",
    "            "
   ]
  }
 ],
 "metadata": {
  "interpreter": {
   "hash": "8786318122129ba10eb40c9c8a2ede770fe6a9df50dfcd3c6edc33520e4c5279"
  },
  "kernelspec": {
   "display_name": "Python 3.7.2 32-bit",
   "name": "python3"
  },
  "language_info": {
   "codemirror_mode": {
    "name": "ipython",
    "version": 3
   },
   "file_extension": ".py",
   "mimetype": "text/x-python",
   "name": "python",
   "nbconvert_exporter": "python",
   "pygments_lexer": "ipython3",
   "version": "3.7.2"
  },
  "orig_nbformat": 4
 },
 "nbformat": 4,
 "nbformat_minor": 2
}
