{
 "cells": [
  {
   "cell_type": "code",
   "execution_count": 2,
   "metadata": {},
   "outputs": [
    {
     "name": "stdout",
     "output_type": "stream",
     "text": [
      "True\n",
      "False\n"
     ]
    }
   ],
   "source": [
    "\n",
    "from typing import List\n",
    "\n",
    "OPERATORS = set([\"+\", \"-\", \"*\", \"/\"])\n",
    "def game_24(arr) -> bool:\n",
    "    if len(arr) == 1:\n",
    "        return arr[0] == 24\n",
    "    # checking if 24 can be reached\n",
    "    possibilities = []\n",
    "    for si in range(len(arr) - 1):\n",
    "        # checking all possibilities\n",
    "        for operator in OPERATORS:\n",
    "            num_1 = arr[si]\n",
    "            num_2 = arr[si + 1]\n",
    "            try:\n",
    "                possibility = (\n",
    "                    arr[:si]\n",
    "                    + [eval(\"{} {} {}\".format(num_1, operator, num_2))]\n",
    "                    + arr[si + 2 :]\n",
    "                )\n",
    "                possibilities.append(possibility)\n",
    "            except ZeroDivisionError:\n",
    "                pass\n",
    "    return any([game_24(x) for x in possibilities])\n",
    "\n",
    "\n",
    "if __name__ == \"__main__\":\n",
    "    print(game_24([5, 2, 7, 8]))\n",
    "    print(game_24([1, 1, 1, 1]))"
   ]
  }
 ],
 "metadata": {
  "interpreter": {
   "hash": "ac63e7d2902d829a95718f514f583b39cb52f10e7c5524becb094a341f2ea3ca"
  },
  "kernelspec": {
   "display_name": "Python 3.10.1 64-bit (windows store)",
   "language": "python",
   "name": "python3"
  },
  "language_info": {
   "codemirror_mode": {
    "name": "ipython",
    "version": 3
   },
   "file_extension": ".py",
   "mimetype": "text/x-python",
   "name": "python",
   "nbconvert_exporter": "python",
   "pygments_lexer": "ipython3",
   "version": "3.10.1"
  },
  "orig_nbformat": 4
 },
 "nbformat": 4,
 "nbformat_minor": 2
}
