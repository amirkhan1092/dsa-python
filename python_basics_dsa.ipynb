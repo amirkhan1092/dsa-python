{
 "metadata": {
  "language_info": {
   "codemirror_mode": {
    "name": "ipython",
    "version": 3
   },
   "file_extension": ".py",
   "mimetype": "text/x-python",
   "name": "python",
   "nbconvert_exporter": "python",
   "pygments_lexer": "ipython3",
   "version": "3.7.2"
  },
  "orig_nbformat": 4,
  "kernelspec": {
   "name": "python3",
   "display_name": "Python 3.7.2 32-bit"
  },
  "interpreter": {
   "hash": "8786318122129ba10eb40c9c8a2ede770fe6a9df50dfcd3c6edc33520e4c5279"
  }
 },
 "nbformat": 4,
 "nbformat_minor": 2,
 "cells": [
  {
   "cell_type": "code",
   "execution_count": null,
   "source": [
    "#  python having built-in data structure, covered with data types \r\n",
    "\"\"\"\r\n",
    "Python Data Structure with data types \r\n",
    "1. numbers \r\n",
    "    int\r\n",
    "    float\r\n",
    "    comoplex\r\n",
    "2. string \r\n",
    "    unicode string \r\n",
    "    bytes \r\n",
    "    ascii string text\r\n",
    "3. list\r\n",
    "    unidimensional\r\n",
    "    multidimensional  \r\n",
    "4. tuple\r\n",
    "    mutable objects as a element of tuples\r\n",
    "5. dictionary \r\n",
    "    json data\r\n",
    "    hash tables \r\n",
    "    hash map\r\n",
    "6. set\r\n",
    "    set operations                   \r\n",
    "\r\n",
    "\"\"\""
   ],
   "outputs": [],
   "metadata": {}
  },
  {
   "cell_type": "markdown",
   "source": [
    "# What is the Algorithm?\r\n",
    "```\r\n",
    "A set of rules that must be followed when solving a particular problem. and how systematically perform a task. it may be a recipe or computer programs \r\n",
    "```"
   ],
   "metadata": {}
  },
  {
   "cell_type": "code",
   "execution_count": 10,
   "source": [
    "# as a dict, but feel free to change this if you'd like.\r\n",
    "ALPHANUM_TO_NATO = {\r\n",
    "    \"A\": \"ALFA\",\r\n",
    "    \"B\": \"BRAVO\",\r\n",
    "    \"C\": \"CHARLIE\",\r\n",
    "    \"D\": \"DELTA\",\r\n",
    "    \"E\": \"ECHO\",\r\n",
    "    \"F\": \"FOXTROT\",\r\n",
    "    \"G\": \"GOLF\",\r\n",
    "    \"H\": \"HOTEL\",\r\n",
    "    \"I\": \"INDIA\",\r\n",
    "    \"J\": \"JULIETT\",\r\n",
    "    \"K\": \"KILO\",\r\n",
    "    \"L\": \"LIMA\",\r\n",
    "    \"M\": \"MIKE\",\r\n",
    "    \"N\": \"NOVEMBER\",\r\n",
    "    \"O\": \"OSCAR\",\r\n",
    "    \"P\": \"PAPA\",\r\n",
    "    \"Q\": \"QUEBEC\",\r\n",
    "    \"R\": \"ROMEO\",\r\n",
    "    \"S\": \"SIERRA\",\r\n",
    "    \"T\": \"TANGO\",\r\n",
    "    \"U\": \"UNIFORM\",\r\n",
    "    \"V\": \"VICTOR\",\r\n",
    "    \"W\": \"WHISKEY\",\r\n",
    "    \"X\": \"XRAY\",\r\n",
    "    \"Y\": \"YANKEE\",\r\n",
    "    \"Z\": \"ZULU\",\r\n",
    "    \"0\": \"ZERO\",\r\n",
    "    \"1\": \"ONE\",\r\n",
    "    \"2\": \"TWO\",\r\n",
    "    \"3\": \"TREE\",\r\n",
    "    \"4\": \"FOUR\",\r\n",
    "    \"5\": \"FIVE\",\r\n",
    "    \"6\": \"SIX\",\r\n",
    "    \"7\": \"SEVEN\",\r\n",
    "    \"8\": \"EIGHT\",\r\n",
    "    \"9\": \"NINER\",\r\n",
    "}\r\n",
    "\r\n",
    "\r\n",
    "def transmit(message: str):\r\n",
    "\tre = ''\r\n",
    "\tfor i in message: \r\n",
    "\t\tif i.isalnum():\r\n",
    "\t\t\tre += ALPHANUM_TO_NATO.get(i.upper()) + ' '   \t\r\n",
    "\treturn re.strip()\t\t\t\r\n",
    "\r\n",
    "def receive(transmission: str):\r\n",
    "\tre = ''\r\n",
    "\tlst = transmission.split()\r\n",
    "\tfor i in lst:\r\n",
    "\t\tfor k, v in ALPHANUM_TO_NATO.items():\r\n",
    "\t\t\tif i == v:\r\n",
    "\t\t\t\tre += k \r\n",
    "\treturn re\r\n",
    "    "
   ],
   "outputs": [],
   "metadata": {}
  },
  {
   "cell_type": "code",
   "execution_count": 11,
   "source": [
    "transmit(\"Hello, World123!\")"
   ],
   "outputs": [
    {
     "output_type": "execute_result",
     "data": {
      "text/plain": [
       "'HOTEL ECHO LIMA LIMA OSCAR WHISKEY OSCAR ROMEO LIMA DELTA ONE TWO TREE'"
      ]
     },
     "metadata": {},
     "execution_count": 11
    }
   ],
   "metadata": {}
  },
  {
   "cell_type": "code",
   "execution_count": 2,
   "source": [
    "# Given a list of numbers, return whether the sum of any two number is equal to k or not. For example, given [10, 15, 3, 7] and k of 17, return true since 10 + 7 is 17.\r\n",
    "\r\n",
    "lst = eval(input('Enter the list of numbers '))\r\n",
    "k = int(input())\r\n",
    "N = len(lst)\r\n",
    "re = False\r\n",
    "for i in range(N):\r\n",
    "    for j in range(i+1, N):\r\n",
    "        if lst[i] + lst[j] == k:\r\n",
    "            re = True\r\n",
    "print(re)           \r\n",
    "\r\n",
    "\r\n"
   ],
   "outputs": [
    {
     "output_type": "stream",
     "name": "stdout",
     "text": [
      "True\n"
     ]
    }
   ],
   "metadata": {}
  },
  {
   "cell_type": "code",
   "execution_count": 1,
   "source": [
    "def g(y):\r\n",
    "    b = 0\r\n",
    "    while y >= 3:\r\n",
    "        (y,b) = (y/3,b+1)\r\n",
    "    return(b)\r\n",
    "g(728)    "
   ],
   "outputs": [
    {
     "output_type": "execute_result",
     "data": {
      "text/plain": [
       "5"
      ]
     },
     "metadata": {},
     "execution_count": 1
    }
   ],
   "metadata": {}
  },
  {
   "cell_type": "code",
   "execution_count": null,
   "source": [
    "def f(n):\r\n",
    "    s = 0\r\n",
    "    for i in range(2,n):\r\n",
    "        if n%i == 0 and i%2 == 1:\r\n",
    "            s = s+1\r\n",
    "    return(s)\r\n",
    "f(90)-f(89)    "
   ],
   "outputs": [],
   "metadata": {}
  },
  {
   "cell_type": "code",
   "execution_count": 6,
   "source": [
    "\"cigar party \"\r\n",
    "def cigar_party(cigar, weekend):\r\n",
    "    # main logic \r\n",
    "    if  40 <= cigar <= 60 :\r\n",
    "\r\n",
    "        return True\r\n",
    "    elif cigar > 60 and weekend:\r\n",
    "        return True\r\n",
    "    else:\r\n",
    "        return False        \r\n",
    "\r\n",
    "out = cigar_party(50, False)\r\n",
    "# display \r\n",
    "if out:\r\n",
    "    print(\"Party Successfully done\")\r\n",
    "else:\r\n",
    "    print(\"Party not done successfully\")\r\n",
    "\r\n"
   ],
   "outputs": [
    {
     "output_type": "stream",
     "name": "stdout",
     "text": [
      "Party Successfully done\n"
     ]
    }
   ],
   "metadata": {}
  }
 ]
}