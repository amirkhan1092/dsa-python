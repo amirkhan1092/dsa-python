{
 "cells": [
  {
   "cell_type": "code",
   "execution_count": null,
   "metadata": {},
   "outputs": [],
   "source": [
    "#  python having built-in data structure, covered with data types \n",
    "\"\"\"\n",
    "Python Data Structure with data types \n",
    "1. numbers \n",
    "    int\n",
    "    float\n",
    "    comoplex\n",
    "2. string \n",
    "    unicode string \n",
    "    bytes \n",
    "    ascii string text\n",
    "3. list\n",
    "    unidimensional\n",
    "    multidimensional  \n",
    "4. tuple\n",
    "    mutable objects as a element of tuples\n",
    "5. dictionary \n",
    "    json data\n",
    "    hash tables \n",
    "    hash map\n",
    "6. set\n",
    "    set operations                   \n",
    "\n",
    "\"\"\""
   ]
  },
  {
   "cell_type": "markdown",
   "metadata": {},
   "source": [
    "# What is the Algorithm?\n",
    "```\n",
    "A set of rules that must be followed when solving a particular problem. and how systematically perform a task. it may be a recipe or computer programs \n",
    "```"
   ]
  },
  {
   "cell_type": "code",
   "execution_count": 2,
   "metadata": {},
   "outputs": [],
   "source": [
    "# as a dict, but feel free to change this if you'd like.\n",
    "ALPHANUM_TO_NATO = {\n",
    "    \"A\": \"ALFA\",\n",
    "    \"B\": \"BRAVO\",\n",
    "    \"C\": \"CHARLIE\",\n",
    "    \"D\": \"DELTA\",\n",
    "    \"E\": \"ECHO\",\n",
    "    \"F\": \"FOXTROT\",\n",
    "    \"G\": \"GOLF\",\n",
    "    \"H\": \"HOTEL\",\n",
    "    \"I\": \"INDIA\",\n",
    "    \"J\": \"JULIETT\",\n",
    "    \"K\": \"KILO\",\n",
    "    \"L\": \"LIMA\",\n",
    "    \"M\": \"MIKE\",\n",
    "    \"N\": \"NOVEMBER\",\n",
    "    \"O\": \"OSCAR\",\n",
    "    \"P\": \"PAPA\",\n",
    "    \"Q\": \"QUEBEC\",\n",
    "    \"R\": \"ROMEO\",\n",
    "    \"S\": \"SIERRA\",\n",
    "    \"T\": \"TANGO\",\n",
    "    \"U\": \"UNIFORM\",\n",
    "    \"V\": \"VICTOR\",\n",
    "    \"W\": \"WHISKEY\",\n",
    "    \"X\": \"XRAY\",\n",
    "    \"Y\": \"YANKEE\",\n",
    "    \"Z\": \"ZULU\",\n",
    "    \"0\": \"ZERO\",\n",
    "    \"1\": \"ONE\",\n",
    "    \"2\": \"TWO\",\n",
    "    \"3\": \"TREE\",\n",
    "    \"4\": \"FOUR\",\n",
    "    \"5\": \"FIVE\",\n",
    "    \"6\": \"SIX\",\n",
    "    \"7\": \"SEVEN\",\n",
    "    \"8\": \"EIGHT\",\n",
    "    \"9\": \"NINER\",\n",
    "}\n",
    "\n",
    "\n",
    "def transmit(message: str):\n",
    "\tre = ''\n",
    "\tfor i in message: \n",
    "\t\tif i.isalnum():\n",
    "\t\t\tre += ALPHANUM_TO_NATO.get(i.upper()) + ' '   \t\n",
    "\treturn re.strip()\t\t\t\n",
    "\n",
    "def receive(transmission: str):\n",
    "\tre = ''\n",
    "\tlst = transmission.split()\n",
    "\tfor i in lst:\n",
    "\t\tfor k, v in ALPHANUM_TO_NATO.items():\n",
    "\t\t\tif i == v:\n",
    "\t\t\t\tre += k \n",
    "\treturn re\n",
    "    "
   ]
  },
  {
   "cell_type": "code",
   "execution_count": 3,
   "metadata": {},
   "outputs": [
    {
     "name": "stdout",
     "output_type": "stream",
     "text": [
      "HOTEL ECHO LIMA LIMA OSCAR WHISKEY OSCAR ROMEO LIMA DELTA ONE TWO TREE\n",
      "HELLOWORLD123\n"
     ]
    }
   ],
   "source": [
    "print(transmit(\"Hello, World123!\"))\n",
    "print(receive('HOTEL ECHO LIMA LIMA OSCAR WHISKEY OSCAR ROMEO LIMA DELTA ONE TWO TREE'))"
   ]
  },
  {
   "cell_type": "code",
   "execution_count": 2,
   "metadata": {},
   "outputs": [
    {
     "name": "stdout",
     "output_type": "stream",
     "text": [
      "True\n"
     ]
    }
   ],
   "source": [
    "# Given a list of numbers, return whether the sum of any two number is equal to k or not. For example, given [10, 15, 3, 7] and k of 17, return true since 10 + 7 is 17.\n",
    "\n",
    "lst = eval(input('Enter the list of numbers '))\n",
    "k = int(input())\n",
    "N = len(lst)\n",
    "re = False\n",
    "for i in range(N):\n",
    "    for j in range(i+1, N):\n",
    "        if lst[i] + lst[j] == k:\n",
    "            re = True\n",
    "print(re)           \n",
    "\n",
    "\n"
   ]
  },
  {
   "cell_type": "code",
   "execution_count": 1,
   "metadata": {},
   "outputs": [
    {
     "data": {
      "text/plain": [
       "5"
      ]
     },
     "execution_count": 1,
     "metadata": {},
     "output_type": "execute_result"
    }
   ],
   "source": [
    "def g(y):\n",
    "    b = 0\n",
    "    while y >= 3:\n",
    "        (y,b) = (y/3,b+1)\n",
    "    return(b)\n",
    "g(728)    "
   ]
  },
  {
   "cell_type": "code",
   "execution_count": null,
   "metadata": {},
   "outputs": [],
   "source": [
    "def f(n):\n",
    "    s = 0\n",
    "    for i in range(2,n):\n",
    "        if n%i == 0 and i%2 == 1:\n",
    "            s = s+1\n",
    "    return(s)\n",
    "f(90)-f(89)    "
   ]
  },
  {
   "cell_type": "code",
   "execution_count": 13,
   "metadata": {},
   "outputs": [
    {
     "name": "stdout",
     "output_type": "stream",
     "text": [
      "Party Successfully done\n"
     ]
    }
   ],
   "source": [
    "\"cigar party \"\n",
    "def cigar_party(cigar, weekend):\n",
    "    # main logic \n",
    "    if  40 <= cigar <= 60 or cigar > 60 and weekend:\n",
    "        return True\n",
    "    else:\n",
    "        return False        \n",
    "\n",
    "\n",
    "out = cigar_party(70, True)\n",
    "# display \n",
    "if out:\n",
    "    print(\"Party Successfully done\")\n",
    "else:\n",
    "    print(\"Party not done successfully\")\n",
    "\n"
   ]
  },
  {
   "cell_type": "code",
   "execution_count": 3,
   "metadata": {},
   "outputs": [
    {
     "name": "stdout",
     "output_type": "stream",
     "text": [
      "Result is 5\n"
     ]
    }
   ],
   "source": [
    "\n",
    "# definition can be conditional \n",
    "# the st will decide which  \n",
    "\n",
    "absolute = True\n",
    "if absolute:\n",
    "    def Diff(a, b):\n",
    "        return a + b\n",
    "else:        \n",
    "    def Diff(a, b):\n",
    "        return abs(a - b)\n",
    "\n",
    "print(f\"Result is {Diff(2, 3)}\")   \n",
    "# print(f\"Result is {Diff(2, 3)}\") #           "
   ]
  },
  {
   "cell_type": "code",
   "execution_count": 4,
   "metadata": {},
   "outputs": [
    {
     "name": "stdout",
     "output_type": "stream",
     "text": [
      "<function name1 at 0x05DCE390>\n",
      "<function name1 at 0x05DCE390>\n"
     ]
    }
   ],
   "source": [
    "# can we assign a function a new name \n",
    "\n",
    "def name1(a, b):\n",
    "    pass\n",
    "\n",
    "name2 = name1  # by assignment name2 also become function like name1\n",
    "print(name1, name2, sep='\\n')  # same function Id "
   ]
  }
 ],
 "metadata": {
  "interpreter": {
   "hash": "8786318122129ba10eb40c9c8a2ede770fe6a9df50dfcd3c6edc33520e4c5279"
  },
  "kernelspec": {
   "display_name": "Python 3.7.2 32-bit",
   "name": "python3"
  },
  "language_info": {
   "codemirror_mode": {
    "name": "ipython",
    "version": 3
   },
   "file_extension": ".py",
   "mimetype": "text/x-python",
   "name": "python",
   "nbconvert_exporter": "python",
   "pygments_lexer": "ipython3",
   "version": "3.7.2"
  },
  "orig_nbformat": 4
 },
 "nbformat": 4,
 "nbformat_minor": 2
}
