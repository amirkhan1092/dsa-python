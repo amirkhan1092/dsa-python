{
 "metadata": {
  "language_info": {
   "codemirror_mode": {
    "name": "ipython",
    "version": 3
   },
   "file_extension": ".py",
   "mimetype": "text/x-python",
   "name": "python",
   "nbconvert_exporter": "python",
   "pygments_lexer": "ipython3",
   "version": 3
  },
  "orig_nbformat": 4
 },
 "nbformat": 4,
 "nbformat_minor": 2,
 "cells": [
  {
   "cell_type": "code",
   "execution_count": null,
   "metadata": {},
   "outputs": [],
   "source": [
    "#  python having built-in data structure, covered with data types \n",
    "\"\"\"\n",
    "Python Data Structure with data types \n",
    "1. numbers \n",
    "    int\n",
    "    float\n",
    "    comoplex\n",
    "2. string \n",
    "    unicode string \n",
    "    bytes \n",
    "    ascii string text\n",
    "3. list\n",
    "    unidimensional\n",
    "    multidimensional  \n",
    "4. tuple\n",
    "    mutable objects as a element of tuples\n",
    "5. dictionary \n",
    "    json data\n",
    "    hash tables \n",
    "    hash map\n",
    "6. set\n",
    "    set operations                   \n",
    "\n",
    "\"\"\""
   ]
  }
 ]
}