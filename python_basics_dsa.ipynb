{
 "metadata": {
  "language_info": {
   "codemirror_mode": {
    "name": "ipython",
    "version": 3
   },
   "file_extension": ".py",
   "mimetype": "text/x-python",
   "name": "python",
   "nbconvert_exporter": "python",
   "pygments_lexer": "ipython3",
   "version": "3.7.2"
  },
  "orig_nbformat": 4,
  "kernelspec": {
   "name": "python3",
   "display_name": "Python 3.7.2 32-bit"
  },
  "interpreter": {
   "hash": "8786318122129ba10eb40c9c8a2ede770fe6a9df50dfcd3c6edc33520e4c5279"
  }
 },
 "nbformat": 4,
 "nbformat_minor": 2,
 "cells": [
  {
   "cell_type": "code",
   "execution_count": null,
   "metadata": {},
   "outputs": [],
   "source": [
    "#  python having built-in data structure, covered with data types \n",
    "\"\"\"\n",
    "Python Data Structure with data types \n",
    "1. numbers \n",
    "    int\n",
    "    float\n",
    "    comoplex\n",
    "2. string \n",
    "    unicode string \n",
    "    bytes \n",
    "    ascii string text\n",
    "3. list\n",
    "    unidimensional\n",
    "    multidimensional  \n",
    "4. tuple\n",
    "    mutable objects as a element of tuples\n",
    "5. dictionary \n",
    "    json data\n",
    "    hash tables \n",
    "    hash map\n",
    "6. set\n",
    "    set operations                   \n",
    "\n",
    "\"\"\""
   ]
  },
  {
   "cell_type": "code",
   "execution_count": 10,
   "metadata": {},
   "outputs": [],
   "source": [
    "# as a dict, but feel free to change this if you'd like.\n",
    "ALPHANUM_TO_NATO = {\n",
    "    \"A\": \"ALFA\",\n",
    "    \"B\": \"BRAVO\",\n",
    "    \"C\": \"CHARLIE\",\n",
    "    \"D\": \"DELTA\",\n",
    "    \"E\": \"ECHO\",\n",
    "    \"F\": \"FOXTROT\",\n",
    "    \"G\": \"GOLF\",\n",
    "    \"H\": \"HOTEL\",\n",
    "    \"I\": \"INDIA\",\n",
    "    \"J\": \"JULIETT\",\n",
    "    \"K\": \"KILO\",\n",
    "    \"L\": \"LIMA\",\n",
    "    \"M\": \"MIKE\",\n",
    "    \"N\": \"NOVEMBER\",\n",
    "    \"O\": \"OSCAR\",\n",
    "    \"P\": \"PAPA\",\n",
    "    \"Q\": \"QUEBEC\",\n",
    "    \"R\": \"ROMEO\",\n",
    "    \"S\": \"SIERRA\",\n",
    "    \"T\": \"TANGO\",\n",
    "    \"U\": \"UNIFORM\",\n",
    "    \"V\": \"VICTOR\",\n",
    "    \"W\": \"WHISKEY\",\n",
    "    \"X\": \"XRAY\",\n",
    "    \"Y\": \"YANKEE\",\n",
    "    \"Z\": \"ZULU\",\n",
    "    \"0\": \"ZERO\",\n",
    "    \"1\": \"ONE\",\n",
    "    \"2\": \"TWO\",\n",
    "    \"3\": \"TREE\",\n",
    "    \"4\": \"FOUR\",\n",
    "    \"5\": \"FIVE\",\n",
    "    \"6\": \"SIX\",\n",
    "    \"7\": \"SEVEN\",\n",
    "    \"8\": \"EIGHT\",\n",
    "    \"9\": \"NINER\",\n",
    "}\n",
    "\n",
    "\n",
    "def transmit(message: str):\n",
    "\tre = ''\n",
    "\tfor i in message: \n",
    "\t\tif i.isalnum():\n",
    "\t\t\tre += ALPHANUM_TO_NATO.get(i.upper()) + ' '   \t\n",
    "\treturn re.strip()\t\t\t\n",
    "\n",
    "def receive(transmission: str):\n",
    "\tre = ''\n",
    "\tlst = transmission.split()\n",
    "\tfor i in lst:\n",
    "\t\tfor k, v in ALPHANUM_TO_NATO.items():\n",
    "\t\t\tif i == v:\n",
    "\t\t\t\tre += k \n",
    "\treturn re\n",
    "    "
   ]
  },
  {
   "cell_type": "code",
   "execution_count": 11,
   "metadata": {},
   "outputs": [
    {
     "output_type": "execute_result",
     "data": {
      "text/plain": [
       "'HOTEL ECHO LIMA LIMA OSCAR WHISKEY OSCAR ROMEO LIMA DELTA ONE TWO TREE'"
      ]
     },
     "metadata": {},
     "execution_count": 11
    }
   ],
   "source": [
    "transmit(\"Hello, World123!\")"
   ]
  }
 ]
}