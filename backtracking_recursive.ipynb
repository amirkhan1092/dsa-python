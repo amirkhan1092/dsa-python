{
 "cells": [
  {
   "cell_type": "code",
   "execution_count": 2,
   "source": [
    "# maze solver \r\n",
    "a = [\r\n",
    "    [1, 1, 1, 1, 1, 1, 1, 1, 1, 1],\r\n",
    "    [1, 0, 1, 0, 1, 0, 0, 0, 0, 1],\r\n",
    "    [1, 0, 1, 0, 1, 0, 0, 0, 0, 1],\r\n",
    "    [1, 0, 1, 0, 1, 1, 1, 1, 0, 1],\r\n",
    "    [1, 0, 1, 0, 0, 0, 0, 1, 0, 1],\r\n",
    "    [1, 0, 1, 0, 0, 0, 0, 1, 0, 1],\r\n",
    "    [1, 0, 0, 0, 0, 0, 0, 1, 0, 1],\r\n",
    "    [1, 0, 1, 0, 0, 0, 0, 0, 0, 1],\r\n",
    "    [1, 0, 1, 0, 0, 0, 0, 0, 0, 1],\r\n",
    "    [1, 1, 1, 1, 1, 1, 1, 1, 1, 1],\r\n",
    "]"
   ],
   "outputs": [],
   "metadata": {}
  },
  {
   "cell_type": "code",
   "execution_count": null,
   "source": [
    "def shortestPath(a, i, j, x, y, ):\r\n",
    "    pass\r\n"
   ],
   "outputs": [],
   "metadata": {}
  },
  {
   "cell_type": "code",
   "execution_count": 26,
   "source": [
    "def toString(List):\r\n",
    "    return ''.join(List)\r\n",
    " \r\n",
    "# Function to print permutations of string\r\n",
    "# This function takes three parameters:\r\n",
    "# 1. String\r\n",
    "# 2. Starting index of the string\r\n",
    "# 3. Ending index of the string.\r\n",
    "def permute(a, l, r):\r\n",
    "    if l==r:\r\n",
    "        # print(a)\r\n",
    "        return a \r\n",
    "    else:\r\n",
    "        for i in range(l,r+1):\r\n",
    "            a[l], a[i] = a[i], a[l]\r\n",
    "            temp = [a] + permute(a, l+1, r)\r\n",
    "            a[l], a[i] = a[i], a[l]  # backtrack\r\n",
    "        else:\r\n",
    "            return temp    \r\n",
    "        \r\n",
    " \r\n",
    "# Driver program to test the above function\r\n",
    "string = \"ABC\"\r\n",
    "\r\n",
    "n = len(string)\r\n",
    "a = list(string)\r\n",
    "out = permute(a, 0, n-1)\r\n",
    "print(out)"
   ],
   "outputs": [
    {
     "output_type": "stream",
     "name": "stdout",
     "text": [
      "[['A', 'B', 'C'], ['A', 'B', 'C'], 'A', 'B', 'C']\n"
     ]
    }
   ],
   "metadata": {}
  }
 ],
 "metadata": {
  "orig_nbformat": 4,
  "language_info": {
   "name": "python",
   "version": "3.7.2",
   "mimetype": "text/x-python",
   "codemirror_mode": {
    "name": "ipython",
    "version": 3
   },
   "pygments_lexer": "ipython3",
   "nbconvert_exporter": "python",
   "file_extension": ".py"
  },
  "kernelspec": {
   "name": "python3",
   "display_name": "Python 3.7.2 32-bit"
  },
  "interpreter": {
   "hash": "8786318122129ba10eb40c9c8a2ede770fe6a9df50dfcd3c6edc33520e4c5279"
  }
 },
 "nbformat": 4,
 "nbformat_minor": 2
}