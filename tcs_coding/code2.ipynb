{
 "cells": [
  {
   "cell_type": "code",
   "execution_count": null,
   "source": [
    "work1 = int(input(\"Enter the work 1\"))\r\n",
    "work2 = int(input(\"Enter the work 2\"))\r\n",
    "\r\n",
    "if work2 == work1 * 2:\r\n",
    "    print(\"Yes\")\r\n",
    "else:\r\n",
    "    print(\"No\")    "
   ],
   "outputs": [],
   "metadata": {}
  }
 ],
 "metadata": {
  "orig_nbformat": 4,
  "language_info": {
   "name": "python"
  }
 },
 "nbformat": 4,
 "nbformat_minor": 2
}