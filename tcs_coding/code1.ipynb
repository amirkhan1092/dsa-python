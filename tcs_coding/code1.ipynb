{
 "cells": [
  {
   "cell_type": "code",
   "execution_count": 22,
   "metadata": {},
   "outputs": [
    {
     "name": "stdout",
     "output_type": "stream",
     "text": [
      "Not Strange\n"
     ]
    }
   ],
   "source": [
    "\n",
    "def prime(num):\n",
    "    for i in range(2, num//2+1):\n",
    "        if num % i == 0:\n",
    "            return False\n",
    "    else:\n",
    "        return True        \n",
    "\n",
    "num = eval(input())\n",
    "mx = 0\n",
    "for i in range(2, num//2+1):\n",
    "    if num % i == 0:\n",
    "        if prime(i):\n",
    "            mx = i\n",
    "        else:\n",
    "            print(\"Not Strange\") \n",
    "            break\n",
    "else:\n",
    "    if num ** .5  < mx: \n",
    "        print(\"Strange\")\n",
    "    else:\n",
    "        print(\"Not Strange\")    "
   ]
  },
  {
   "cell_type": "code",
   "execution_count": 13,
   "metadata": {},
   "outputs": [
    {
     "name": "stdout",
     "output_type": "stream",
     "text": [
      "Awesome\n"
     ]
    }
   ],
   "source": [
    "a = 100\n",
    "if a > 0:\n",
    "    if a > 10:\n",
    "        print('Awesome')\n",
    "    else:\n",
    "        print('Average')\n",
    "elif a == 0:\n",
    "    print('try again ')        \n",
    "else:\n",
    "    print('Nothing')            "
   ]
  },
  {
   "cell_type": "code",
   "execution_count": null,
   "metadata": {},
   "outputs": [],
   "source": [
    "a = 5\n",
    "s = 0\n",
    "i = 1\n",
    "while i <= a:\n",
    "    s = s + i\n",
    "    i = i + 1\n",
    "print(s)\n",
    "\n",
    "\"\"\"5 4 3 2 1 \"\"\""
   ]
  },
  {
   "cell_type": "code",
   "execution_count": 22,
   "metadata": {},
   "outputs": [
    {
     "name": "stdout",
     "output_type": "stream",
     "text": [
      "result is 64 of 32 and 32\n"
     ]
    }
   ],
   "source": [
    "\n",
    "a = 32\n",
    "b = 32\n",
    "c = a + b\n",
    "d= 'result is %d of %d and %d' %(c, a, b)\n",
    "\n",
    "print(d)\n"
   ]
  },
  {
   "cell_type": "code",
   "execution_count": 25,
   "metadata": {},
   "outputs": [
    {
     "name": "stdout",
     "output_type": "stream",
     "text": [
      "[3, 5, 5, 64, 54] <class 'str'>\n"
     ]
    }
   ],
   "source": [
    "st = input('Enter the list')\n",
    "\n",
    "st = '[3, 5, 5, 64, 54]'\n",
    "\n",
    "eval('23.90')\n",
    "\n",
    "print(st, type(st))"
   ]
  },
  {
   "cell_type": "code",
   "execution_count": 41,
   "metadata": {},
   "outputs": [
    {
     "name": "stdout",
     "output_type": "stream",
     "text": [
      "[3, 45, 56, 3] <class 'list'>\n"
     ]
    }
   ],
   "source": [
    "  \n",
    "    new_list = list(map(int, input('enter the space separated elements').split()))\n",
    "\n",
    "    print(new_list, type(new_list))"
   ]
  },
  {
   "cell_type": "code",
   "execution_count": 38,
   "metadata": {},
   "outputs": [
    {
     "name": "stdout",
     "output_type": "stream",
     "text": [
      "[4.0, -55.0, 3.56, 6.0]\n"
     ]
    }
   ],
   "source": [
    "lst = [4, -55, 3.56, 6]\n",
    "out = list(map(float, lst))\n",
    "\n",
    "print(out)"
   ]
  },
  {
   "cell_type": "code",
   "execution_count": 34,
   "metadata": {},
   "outputs": [
    {
     "name": "stdout",
     "output_type": "stream",
     "text": [
      "['hello ', 'ython ', 'rogramming']\n"
     ]
    }
   ],
   "source": [
    "st = 'hello python programming'\n",
    "out = st.split('p')\n",
    "print(out)"
   ]
  }
 ],
 "metadata": {
  "interpreter": {
   "hash": "8786318122129ba10eb40c9c8a2ede770fe6a9df50dfcd3c6edc33520e4c5279"
  },
  "kernelspec": {
   "display_name": "Python 3.7.2 32-bit",
   "name": "python3"
  },
  "language_info": {
   "codemirror_mode": {
    "name": "ipython",
    "version": 3
   },
   "file_extension": ".py",
   "mimetype": "text/x-python",
   "name": "python",
   "nbconvert_exporter": "python",
   "pygments_lexer": "ipython3",
   "version": "3.7.2"
  },
  "orig_nbformat": 4
 },
 "nbformat": 4,
 "nbformat_minor": 2
}
