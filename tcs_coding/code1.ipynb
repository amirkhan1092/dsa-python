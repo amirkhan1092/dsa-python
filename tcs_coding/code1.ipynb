{
 "cells": [
  {
   "cell_type": "code",
   "execution_count": 22,
   "source": [
    "\r\n",
    "def prime(num):\r\n",
    "    for i in range(2, num//2+1):\r\n",
    "        if num % i == 0:\r\n",
    "            return False\r\n",
    "    else:\r\n",
    "        return True        \r\n",
    "\r\n",
    "num = eval(input())\r\n",
    "mx = 0\r\n",
    "for i in range(2, num//2+1):\r\n",
    "    if num % i == 0:\r\n",
    "        if prime(i):\r\n",
    "            mx = i\r\n",
    "        else:\r\n",
    "            print(\"Not Strange\") \r\n",
    "            break\r\n",
    "else:\r\n",
    "    if num ** .5  < mx: \r\n",
    "        print(\"Strange\")\r\n",
    "    else:\r\n",
    "        print(\"Not Strange\")    "
   ],
   "outputs": [
    {
     "output_type": "stream",
     "name": "stdout",
     "text": [
      "Not Strange\n"
     ]
    }
   ],
   "metadata": {}
  },
  {
   "cell_type": "code",
   "execution_count": 17,
   "source": [
    "int('23')"
   ],
   "outputs": [
    {
     "output_type": "execute_result",
     "data": {
      "text/plain": [
       "23"
      ]
     },
     "metadata": {},
     "execution_count": 17
    }
   ],
   "metadata": {}
  }
 ],
 "metadata": {
  "orig_nbformat": 4,
  "language_info": {
   "name": "python",
   "version": "3.7.2",
   "mimetype": "text/x-python",
   "codemirror_mode": {
    "name": "ipython",
    "version": 3
   },
   "pygments_lexer": "ipython3",
   "nbconvert_exporter": "python",
   "file_extension": ".py"
  },
  "kernelspec": {
   "name": "python3",
   "display_name": "Python 3.7.2 32-bit"
  },
  "interpreter": {
   "hash": "8786318122129ba10eb40c9c8a2ede770fe6a9df50dfcd3c6edc33520e4c5279"
  }
 },
 "nbformat": 4,
 "nbformat_minor": 2
}