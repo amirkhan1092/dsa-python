{
 "cells": [
  {
   "cell_type": "code",
   "execution_count": null,
   "metadata": {},
   "outputs": [],
   "source": [
    "# linked list implementation in Python\n",
    "\n",
    "class Node:\n",
    "    def __init__(self, data) -> None:\n",
    "        self.data = data  # assign data to data \n",
    "        self.next = None  # next is None\n",
    "\n",
    "\n",
    "class linked_list:\n",
    "    def __init__(self) -> None:\n",
    "        self.head = None\n",
    "\n",
    "\n",
    "out = Node(30)\n",
    "L = linked_list()\n",
    "L.head = out\n",
    "\n",
    "\n",
    "\n",
    "\n",
    "\n",
    "\n",
    "\n",
    "        \n",
    "\n"
   ]
  }
 ],
 "metadata": {
  "language_info": {
   "name": "python"
  },
  "orig_nbformat": 4
 },
 "nbformat": 4,
 "nbformat_minor": 2
}
