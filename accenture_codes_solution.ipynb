{
 "cells": [
  {
   "cell_type": "code",
   "execution_count": 3,
   "source": [
    "\"\"\"\r\n",
    "Problem Description :\r\n",
    "\r\n",
    "The function accepts two positive integers ‘r’ and ‘unit’ and a positive integer array ‘arr’ of size ‘n’ as its argument ‘r’ represents the number of rats present in an area, ‘unit’ is the amount of food each rat consumes and each ith element of array ‘arr’ represents the amount of food present in ‘i+1’ house number, where 0 <= i\r\n",
    "\r\n",
    "Note:\r\n",
    "\r\n",
    "Return -1 if the array is null\r\n",
    "Return 0 if the total amount of food from all houses is not sufficient for all the rats.\r\n",
    "Computed values lie within the integer range.\r\n",
    "Example:\r\n",
    "\r\n",
    "Input:\r\n",
    "\r\n",
    "r: 7\r\n",
    "unit: 2\r\n",
    "n: 8\r\n",
    "arr: 2 8 3 5 7 4 1 2\r\n",
    "Output:\r\n",
    "\r\n",
    "4\r\n",
    "\r\n",
    "Explanation:\r\n",
    "\r\n",
    "Total amount of food required for all rats = r * unit\r\n",
    "\r\n",
    "= 7 * 2 = 14.\r\n",
    "\r\n",
    "The amount of food in 1st houses = 2+8+3+5 = 18. Since, amount of food in 1st 4 houses is sufficient for all the rats. Thus, output is 4.\r\n",
    "\r\n",
    "\"\"\"\r\n",
    "\r\n",
    "\r\n",
    "def food_required(rat, unit, array):\r\n",
    "    if len(array):\r\n",
    "        food_required = rat * unit\r\n",
    "        for i in range(len(array)):\r\n",
    "            if sum(array[:i+1]) >= food_required:\r\n",
    "                return i + 1\r\n",
    "        else:\r\n",
    "            return 0        \r\n",
    "    else:    \r\n",
    "        return -1\r\n",
    "\r\n",
    "\r\n",
    "r = int(input()[2:])\r\n",
    "unit = int(input()[5:])\r\n",
    "arr = list(map(int, input()[4:].split()))\r\n",
    "\r\n",
    "re = food_required(r, unit, arr)\r\n",
    "print(re)\r\n",
    "\r\n",
    "\r\n"
   ],
   "outputs": [
    {
     "output_type": "stream",
     "name": "stdout",
     "text": [
      "4\n"
     ]
    }
   ],
   "metadata": {}
  },
  {
   "cell_type": "code",
   "execution_count": null,
   "source": [
    "\"\"\"This problem was asked by Google.\r\n",
    "\r\n",
    "Implement a PrefixMapSum class with the following methods:\r\n",
    "\r\n",
    "insert(key: str, value: int): Set a given key's value in the map. If the key already exists, overwrite the value.\r\n",
    "sum(prefix: str): Return the sum of all values of keys that begin with a given prefix.\r\n",
    "For example, you should be able to run the following code:\r\n",
    "\r\n",
    "mapsum.insert(\"columnar\", 3)\r\n",
    "assert mapsum.sum(\"col\") == 3\r\n",
    "\r\n",
    "mapsum.insert(\"column\", 2)\r\n",
    "assert mapsum.sum(\"col\") == 5\r\n",
    "\"\"\"\r\n",
    "\r\n",
    "\r\n"
   ],
   "outputs": [],
   "metadata": {}
  },
  {
   "cell_type": "code",
   "execution_count": 15,
   "source": [
    "a = 0\r\n",
    "b = 3\r\n",
    "c = 5\r\n",
    "for c in range(4, 8):\r\n",
    "    \r\n",
    "    if (b - a + c) > (c + b):\r\n",
    "        continue\r\n",
    "    b = a + c\r\n",
    "    b = 7 + b\r\n",
    "print(a + b)        "
   ],
   "outputs": [
    {
     "output_type": "stream",
     "name": "stdout",
     "text": [
      "14\n"
     ]
    }
   ],
   "metadata": {}
  },
  {
   "cell_type": "code",
   "execution_count": 19,
   "source": [
    "a = 1\r\n",
    "b = 2\r\n",
    "c = 9\r\n",
    "a = (a ^ a) ^ a\r\n",
    "b = (a+2)^c\r\n",
    "if (b^c) < c:\r\n",
    "    a = 2 + b\r\n",
    "else:\r\n",
    "    b = 7 + c\r\n",
    "print(a + b+ c)    "
   ],
   "outputs": [
    {
     "output_type": "stream",
     "name": "stdout",
     "text": [
      "31\n"
     ]
    }
   ],
   "metadata": {}
  },
  {
   "cell_type": "code",
   "execution_count": 20,
   "source": [
    "p = 0\r\n",
    "q = 7\r\n",
    "r = 9\r\n",
    "p = r ^ 8 + r\r\n",
    "if  > (r ^ q):\r\n",
    "    r = (11 & 12 ) + q\r\n",
    "if (q ^ 6 ^ 8) > (p ^ 4):\r\n",
    "    p = (r + 3) & r\r\n",
    "\r\n",
    "print(p+q+r)"
   ],
   "outputs": [
    {
     "output_type": "error",
     "ename": "SyntaxError",
     "evalue": "invalid syntax (<ipython-input-20-b2a80061d7dd>, line 5)",
     "traceback": [
      "\u001b[1;36m  File \u001b[1;32m\"<ipython-input-20-b2a80061d7dd>\"\u001b[1;36m, line \u001b[1;32m5\u001b[0m\n\u001b[1;33m    if  > (r ^ q):\u001b[0m\n\u001b[1;37m        ^\u001b[0m\n\u001b[1;31mSyntaxError\u001b[0m\u001b[1;31m:\u001b[0m invalid syntax\n"
     ]
    }
   ],
   "metadata": {}
  },
  {
   "cell_type": "code",
   "execution_count": 25,
   "source": [
    "pp = 6\r\n",
    "qq = 3\r\n",
    "rr = 6 + qq\r\n",
    "qq =  (10 ^ 6) + qq\r\n",
    "if (pp & qq & rr) < (qq - rr - pp):\r\n",
    "    pp = 9 + 12 + qq\r\n",
    "print(pp + qq + rr)        "
   ],
   "outputs": [
    {
     "output_type": "stream",
     "name": "stdout",
     "text": [
      "30\n"
     ]
    }
   ],
   "metadata": {}
  },
  {
   "cell_type": "code",
   "execution_count": null,
   "source": [],
   "outputs": [],
   "metadata": {}
  },
  {
   "cell_type": "code",
   "execution_count": null,
   "source": [
    "def InversionCount(A, n):\r\n",
    "    if len(A) < 2:\r\n",
    "        return 1\r\n",
    "    elif len(A):\r\n",
    "        count = 0\r\n",
    "        for i in range(len(A)):\r\n",
    "            for k in range(i+1,len(A)):\r\n",
    "                if i < k and A[i] > A[k]:\r\n",
    "                    count += 1\r\n",
    "        return count             \r\n",
    "    else:\r\n",
    "        return -1\r\n",
    "\r\n",
    "A = list(map(int, input().split()))\r\n",
    "n = int(input())\r\n",
    "re = InversionCount(A, n)\r\n",
    "print(re)"
   ],
   "outputs": [],
   "metadata": {}
  }
 ],
 "metadata": {
  "orig_nbformat": 4,
  "language_info": {
   "name": "python",
   "version": "3.7.2",
   "mimetype": "text/x-python",
   "codemirror_mode": {
    "name": "ipython",
    "version": 3
   },
   "pygments_lexer": "ipython3",
   "nbconvert_exporter": "python",
   "file_extension": ".py"
  },
  "kernelspec": {
   "name": "python3",
   "display_name": "Python 3.7.2 32-bit"
  },
  "interpreter": {
   "hash": "8786318122129ba10eb40c9c8a2ede770fe6a9df50dfcd3c6edc33520e4c5279"
  }
 },
 "nbformat": 4,
 "nbformat_minor": 2
}