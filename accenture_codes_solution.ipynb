{
 "cells": [
  {
   "cell_type": "code",
   "execution_count": 3,
   "source": [
    "\"\"\"\r\n",
    "Problem Description :\r\n",
    "\r\n",
    "The function accepts two positive integers ‘r’ and ‘unit’ and a positive integer array ‘arr’ of size ‘n’ as its argument ‘r’ represents the number of rats present in an area, ‘unit’ is the amount of food each rat consumes and each ith element of array ‘arr’ represents the amount of food present in ‘i+1’ house number, where 0 <= i\r\n",
    "\r\n",
    "Note:\r\n",
    "\r\n",
    "Return -1 if the array is null\r\n",
    "Return 0 if the total amount of food from all houses is not sufficient for all the rats.\r\n",
    "Computed values lie within the integer range.\r\n",
    "Example:\r\n",
    "\r\n",
    "Input:\r\n",
    "\r\n",
    "r: 7\r\n",
    "unit: 2\r\n",
    "n: 8\r\n",
    "arr: 2 8 3 5 7 4 1 2\r\n",
    "Output:\r\n",
    "\r\n",
    "4\r\n",
    "\r\n",
    "Explanation:\r\n",
    "\r\n",
    "Total amount of food required for all rats = r * unit\r\n",
    "\r\n",
    "= 7 * 2 = 14.\r\n",
    "\r\n",
    "The amount of food in 1st houses = 2+8+3+5 = 18. Since, amount of food in 1st 4 houses is sufficient for all the rats. Thus, output is 4.\r\n",
    "\r\n",
    "\"\"\"\r\n",
    "\r\n",
    "\r\n",
    "def food_required(rat, unit, array):\r\n",
    "    if len(array):\r\n",
    "        food_required = rat * unit\r\n",
    "        for i in range(len(array)):\r\n",
    "            if sum(array[:i+1]) >= food_required:\r\n",
    "                return i + 1\r\n",
    "        else:\r\n",
    "            return 0        \r\n",
    "    else:    \r\n",
    "        return -1\r\n",
    "\r\n",
    "\r\n",
    "r = int(input()[2:])\r\n",
    "unit = int(input()[5:])\r\n",
    "arr = list(map(int, input()[4:].split()))\r\n",
    "\r\n",
    "re = food_required(r, unit, arr)\r\n",
    "print(re)\r\n",
    "\r\n",
    "\r\n"
   ],
   "outputs": [
    {
     "output_type": "stream",
     "name": "stdout",
     "text": [
      "4\n"
     ]
    }
   ],
   "metadata": {}
  }
 ],
 "metadata": {
  "orig_nbformat": 4,
  "language_info": {
   "name": "python",
   "version": "3.7.2",
   "mimetype": "text/x-python",
   "codemirror_mode": {
    "name": "ipython",
    "version": 3
   },
   "pygments_lexer": "ipython3",
   "nbconvert_exporter": "python",
   "file_extension": ".py"
  },
  "kernelspec": {
   "name": "python3",
   "display_name": "Python 3.7.2 32-bit"
  },
  "interpreter": {
   "hash": "8786318122129ba10eb40c9c8a2ede770fe6a9df50dfcd3c6edc33520e4c5279"
  }
 },
 "nbformat": 4,
 "nbformat_minor": 2
}