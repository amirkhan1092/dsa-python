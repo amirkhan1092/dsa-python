{
 "cells": [
  {
   "cell_type": "code",
   "execution_count": 65,
   "source": [
    "from  itertools import permutations \r\n",
    "\r\n",
    "input_list = permutations(map(int, input(\"Enter the space separated input \").split()))\r\n",
    "count = 0\r\n",
    "for lst in input_list:\r\n",
    "    lst = list(lst)\r\n",
    "    flag = []\r\n",
    "    tmp = 1\r\n",
    "    while any(lst):\r\n",
    "        for i in range(len(lst)):\r\n",
    "            if lst[i] != 0:\r\n",
    "                lst[i] -= 1\r\n",
    "                if flag[-1:] == [i]:\r\n",
    "                    \r\n",
    "                    tmp = 0\r\n",
    "                    lst.clear()\r\n",
    "                    break\r\n",
    "                else:    \r\n",
    "                    flag.append(i)\r\n",
    "        \r\n",
    "    \r\n",
    "    if tmp :\r\n",
    "        count += 1       \r\n",
    "\r\n",
    "\r\n",
    "print(count)\r\n"
   ],
   "outputs": [
    {
     "output_type": "stream",
     "name": "stdout",
     "text": [
      "540\n"
     ]
    }
   ],
   "metadata": {}
  },
  {
   "cell_type": "code",
   "execution_count": 57,
   "source": [
    "import itertools \r\n",
    "\r\n",
    "\r\n",
    "list(itertools.permutations([1, 2]))"
   ],
   "outputs": [
    {
     "output_type": "execute_result",
     "data": {
      "text/plain": [
       "[(1, 2), (2, 1)]"
      ]
     },
     "metadata": {},
     "execution_count": 57
    }
   ],
   "metadata": {}
  }
 ],
 "metadata": {
  "orig_nbformat": 4,
  "language_info": {
   "name": "python",
   "version": "3.7.2"
  },
  "kernelspec": {
   "name": "python3",
   "display_name": "Python 3.7.2 32-bit"
  },
  "interpreter": {
   "hash": "8786318122129ba10eb40c9c8a2ede770fe6a9df50dfcd3c6edc33520e4c5279"
  }
 },
 "nbformat": 4,
 "nbformat_minor": 2
}