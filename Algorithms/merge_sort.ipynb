{
 "cells": [
  {
   "cell_type": "code",
   "execution_count": 1,
   "source": [
    "\"\"\"\r\n",
    "Merger sort \r\n",
    "\"\"\"\r\n",
    "\r\n",
    "def merge(A, B):\r\n",
    "    C, m, n = [], len(A), len(B)\r\n",
    "    i, j = 0, 0\r\n",
    "    while i + j < m + n:\r\n",
    "        if i == m:\r\n",
    "            C.append(B[j])\r\n",
    "            j += 1\r\n",
    "        elif j == n:\r\n",
    "            C.append(A[i])\r\n",
    "            i += 1\r\n",
    "        elif A[i] > B[j]:\r\n",
    "            C.append(B[j])\r\n",
    "            j += 1\r\n",
    "        elif A[i] <= B[j]:\r\n",
    "            C.append(A[i])\r\n",
    "            i += 1            \r\n",
    "\r\n",
    "    return C\r\n",
    "\r\n",
    "# list1 = list(range(1, 10, 2))  # list follow the odd number\r\n",
    "list1 = [2, 5, 9] \r\n",
    "# list2 = list(range(0, 10, 2))  # list follow the even number\r\n",
    "list2 = [1, 5, 10] \r\n",
    "out = merge(list1, list2)\r\n",
    "print(\"merge post\", out)  # output list \r\n",
    "\r\n"
   ],
   "outputs": [
    {
     "output_type": "stream",
     "name": "stdout",
     "text": [
      "merge post [1, 2, 5, 5, 9, 10]\n"
     ]
    }
   ],
   "metadata": {}
  },
  {
   "cell_type": "code",
   "execution_count": 4,
   "source": [
    "\"\"\"recursive merge short\"\"\"\r\n",
    "\r\n",
    "\r\n",
    "def merge_sort(A:list, left:int, right:int)->list:\r\n",
    "    if right - left <= 1:\r\n",
    "        return A[left:right]\r\n",
    "    if right - left > 1:\r\n",
    "        mid = (left + right) // 2\r\n",
    "        L = merge_sort(A, left, mid)\r\n",
    "        R = merge_sort(A, mid, right)\r\n",
    "        return merge(L, R)\r\n",
    "\r\n",
    "list1 = list(range(1, 10, 2))  # list follow the odd number \r\n",
    "list2 = list(range(0, 10, 2))  # list follow the even number\r\n",
    "lst = [2, 4, 5, 0, 2, 1, 9, 1] \r\n",
    "out = merge_sort(lst, 0, len(lst))\r\n",
    "print(\"merge post\", out)  # output list "
   ],
   "outputs": [
    {
     "output_type": "stream",
     "name": "stdout",
     "text": [
      "merge post [0, 1, 2, 3, 4, 5, 6, 7, 8, 9]\n"
     ]
    }
   ],
   "metadata": {}
  },
  {
   "cell_type": "code",
   "execution_count": 21,
   "source": [
    "\"\"\r\n",
    "\r\n",
    "num1, num2, num3 = raw_input().split()\r\n",
    "\r\n",
    "print(min(num1[0], num2[0], num3[0]) + max(num1[1], num2[1], num3[1]) + min(num1[2], num2[2], num3[2]) +  max(num1[3], num2[3], num3[3]))\r\n",
    "\r\n"
   ],
   "outputs": [
    {
     "output_type": "stream",
     "name": "stdout",
     "text": [
      "1522\n"
     ]
    }
   ],
   "metadata": {}
  },
  {
   "cell_type": "code",
   "execution_count": 29,
   "source": [
    "num1, k = input().split()\r\n",
    "k = int(k)\r\n",
    "st = ''\r\n",
    "for i in range(1, len(num1)+1):\r\n",
    "    if i + k < len(num1):\r\n",
    "        st += str(num1[i+k])\r\n",
    "    else:\r\n",
    "        st += str(num1[(i + k) % k])\r\n",
    "print(st)             \r\n"
   ],
   "outputs": [
    {
     "output_type": "stream",
     "name": "stdout",
     "text": [
      "12432\n"
     ]
    }
   ],
   "metadata": {}
  },
  {
   "cell_type": "code",
   "execution_count": 26,
   "source": [
    "b1, h1 = map(eval, input().split())\r\n",
    "b2, h2 = map(eval, input().split())\r\n",
    "\r\n",
    "print(\"{0:.6f}\".format(max((b1*h2/2, (b2*h2)/2))))"
   ],
   "outputs": [
    {
     "output_type": "stream",
     "name": "stdout",
     "text": [
      "30.000000\n"
     ]
    }
   ],
   "metadata": {}
  }
 ],
 "metadata": {
  "orig_nbformat": 4,
  "language_info": {
   "name": "python",
   "version": "3.7.2",
   "mimetype": "text/x-python",
   "codemirror_mode": {
    "name": "ipython",
    "version": 3
   },
   "pygments_lexer": "ipython3",
   "nbconvert_exporter": "python",
   "file_extension": ".py"
  },
  "kernelspec": {
   "name": "python3",
   "display_name": "Python 3.7.2 32-bit"
  },
  "interpreter": {
   "hash": "8786318122129ba10eb40c9c8a2ede770fe6a9df50dfcd3c6edc33520e4c5279"
  }
 },
 "nbformat": 4,
 "nbformat_minor": 2
}