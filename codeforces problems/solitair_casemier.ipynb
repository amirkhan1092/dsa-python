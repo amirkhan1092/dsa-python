{
 "cells": [
  {
   "cell_type": "markdown",
   "source": [
    "```\r\n",
    "A. Casimir's String Solitaire\r\n",
    "time limit per test2 seconds\r\n",
    "memory limit per test256 megabytes\r\n",
    "inputstandard input\r\n",
    "outputstandard output\r\n",
    "Casimir has a string s which consists of capital Latin letters 'A', 'B', and 'C' only. Each turn he can choose to do one of the two following actions:\r\n",
    "\r\n",
    "he can either erase exactly one letter 'A' and exactly one letter 'B' from arbitrary places of the string (these letters don't have to be adjacent);\r\n",
    "or he can erase exactly one letter 'B' and exactly one letter 'C' from arbitrary places in the string (these letters don't have to be adjacent).\r\n",
    "Therefore, each turn the length of the string is decreased exactly by 2. All turns are independent so for each turn, Casimir can choose any of two possible actions.\r\n",
    "\r\n",
    "For example, with s = \"ABCABC\" he can obtain a string s = \"ACBC\" in one turn (by erasing the first occurrence of 'B' and the second occurrence of 'A'). There are also many other options for a turn aside from this particular example.\r\n",
    "\r\n",
    "For a given string s determine whether there is a sequence of actions leading to an empty string. In other words, Casimir's goal is to erase all letters from the string. Is there a way to do this?\r\n",
    "\r\n",
    "Input\r\n",
    "The first line contains an integer t (1≤t≤1000) — the number of test cases.\r\n",
    "\r\n",
    "Each test case is described by one string s, for which you need to determine if it can be fully erased by some sequence of turns. The string s consists of capital letters 'A', 'B', 'C' and has a length from 1 to 50 letters, inclusive.\r\n",
    "\r\n",
    "Output\r\n",
    "Print t lines, each line containing the answer to the corresponding test case. The answer to a test case should be YES if there is a way to fully erase the corresponding string and NO otherwise.\r\n",
    "\r\n",
    "You may print every letter in any case you want (so, for example, the strings yEs, yes, Yes, and YES will all be recognized as positive answers).\r\n",
    "\r\n",
    "Example\r\n",
    "inputCopy\r\n",
    "6\r\n",
    "ABACAB\r\n",
    "ABBA\r\n",
    "AC\r\n",
    "ABC\r\n",
    "CABCBB\r\n",
    "BCBCBCBCBCBCBCBC\r\n",
    "outputCopy\r\n",
    "NO\r\n",
    "YES\r\n",
    "NO\r\n",
    "NO\r\n",
    "YES\r\n",
    "YES\r\n",
    "\r\n",
    "```\r\n",
    "\r\n",
    "\r\n"
   ],
   "metadata": {}
  },
  {
   "cell_type": "code",
   "execution_count": 35,
   "source": [
    "def solitair_or_not(st):\r\n",
    "    pass\r\n",
    "\r\n",
    "test = int(input())\r\n",
    "for _ in range(test):\r\n",
    "    data = input()\r\n",
    "    lst = list(data)\r\n",
    "\r\n",
    "    for i in range(len(data)):\r\n",
    "        for j in range(i+2, len(data)):\r\n",
    "            print(lst)\r\n",
    "            if (lst[i] == 'A' and lst[j] == 'B') or (lst[i] == 'B' and lst[j] == 'A'):\r\n",
    "                lst[i], lst[j] = False, False\r\n",
    "            elif (lst[i] == 'B' and lst[j] == 'C') or (lst[i] == 'C' and lst[j] == 'B'):\r\n",
    "                lst[i], lst[j] = False, False \r\n",
    "    print('No' if any(lst) else print('YES'))               \r\n",
    "                \r\n",
    "\r\n",
    "\r\n",
    "\r\n",
    "\"\"\"\r\n",
    "6\r\n",
    "ABACAB\r\n",
    "ABBA\r\n",
    "AC\r\n",
    "ABC\r\n",
    "CABCBB\r\n",
    "BCBCBCBCBCBCBCBC\r\n",
    "\"\"\"\r\n",
    "\r\n",
    "\r\n",
    "\r\n",
    "    "
   ],
   "outputs": [
    {
     "output_type": "stream",
     "name": "stdout",
     "text": [
      "['A', 'B', 'B', 'C', 'A', 'B']\n",
      "[False, 'B', False, 'C', 'A', 'B']\n",
      "[False, 'B', False, 'C', 'A', 'B']\n",
      "[False, 'B', False, 'C', 'A', 'B']\n",
      "[False, 'B', False, 'C', 'A', 'B']\n",
      "[False, False, False, False, 'A', 'B']\n",
      "[False, False, False, False, 'A', 'B']\n",
      "[False, False, False, False, 'A', 'B']\n",
      "[False, False, False, False, 'A', 'B']\n",
      "[False, False, False, False, 'A', 'B']\n",
      "No\n"
     ]
    },
    {
     "output_type": "execute_result",
     "data": {
      "text/plain": [
       "'\\n6\\nABACAB\\nABBA\\nAC\\nABC\\nCABCBB\\nBCBCBCBCBCBCBCBC\\n'"
      ]
     },
     "metadata": {},
     "execution_count": 35
    }
   ],
   "metadata": {}
  },
  {
   "cell_type": "code",
   "execution_count": 8,
   "source": [
    "st = 'BCBCBCBCBCBCBCBCAA'\r\n",
    "lst = list(st)\r\n",
    "\r\n",
    "a = st.count('A')\r\n",
    "b = st.count('B')\r\n",
    "c = st.count('C')\r\n",
    "\r\n",
    "if a \r\n",
    "\r\n",
    "\r\n",
    "\r\n"
   ],
   "outputs": [
    {
     "output_type": "stream",
     "name": "stdout",
     "text": [
      "YES\n"
     ]
    }
   ],
   "metadata": {}
  }
 ],
 "metadata": {
  "orig_nbformat": 4,
  "language_info": {
   "name": "python",
   "version": "3.7.2",
   "mimetype": "text/x-python",
   "codemirror_mode": {
    "name": "ipython",
    "version": 3
   },
   "pygments_lexer": "ipython3",
   "nbconvert_exporter": "python",
   "file_extension": ".py"
  },
  "kernelspec": {
   "name": "python3",
   "display_name": "Python 3.7.2 32-bit"
  },
  "interpreter": {
   "hash": "8786318122129ba10eb40c9c8a2ede770fe6a9df50dfcd3c6edc33520e4c5279"
  }
 },
 "nbformat": 4,
 "nbformat_minor": 2
}