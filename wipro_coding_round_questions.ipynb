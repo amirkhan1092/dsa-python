{
 "cells": [
  {
   "cell_type": "code",
   "execution_count": 3,
   "source": [
    "\"\"\"\r\n",
    "Josh went to the market to buy N apples. He found two shops, shop A and B, where apples were being sold in lots. He can buy any number of the complete lot(s) but not loose apples. He is confused with the price and wants you to figure out the minimum cost to buy exactly N apples. Write an algorithm for Josh to calculate the minimum cost to buy exactly N apples.\r\n",
    "\r\n",
    "Input Format:\r\n",
    "\r\n",
    "The first line of the input consists of an integer – N, representing the total number of apples that Josh wants to buy.\r\n",
    "The second line consists of two space-separated positive integers – M1 and P1, representing the number of apples in a lot and the lot’s price at shop A, respectively.\r\n",
    "The third line consists of two space-separated positive integers-M2 and P2, representing the number of apples in a lot and lot’s price at shop B, respectively.\r\n",
    "Output Format:\r\n",
    "\r\n",
    "Print a positive integer representing the minimum price at which Josh can buy the apples.\r\n",
    "\r\n",
    "Sample Input:\r\n",
    "\r\n",
    "19\r\n",
    "\r\n",
    "3 10\r\n",
    "\r\n",
    "4 15\r\n",
    "\r\n",
    "Sample Output:\r\n",
    "\r\n",
    "65\r\n",
    "\"\"\"\r\n",
    "n = int(input())\r\n",
    "m1, p1 = map(int, input().split())\r\n",
    "m2, p2 = map(int, input().split())\r\n",
    "i = 0\r\n",
    "min_cost = 100000000000  # suppose a big number \r\n",
    "while m1*i <= n:\r\n",
    "    rem = n - i*m1\r\n",
    "    if rem % m2 == 0:\r\n",
    "        cost = p1 * i + p2 * (rem // m2)\r\n",
    "        min_cost = cost if min_cost > cost else min_cost\r\n",
    "\r\n",
    "    i += 1\r\n",
    "\r\n",
    "print(min_cost)\r\n",
    "\r\n",
    "\r\n",
    "\r\n",
    "\r\n",
    "\r\n"
   ],
   "outputs": [
    {
     "output_type": "stream",
     "name": "stdout",
     "text": [
      "30\n"
     ]
    }
   ],
   "metadata": {}
  },
  {
   "cell_type": "code",
   "execution_count": 7,
   "source": [
    "\"\"\"\r\n",
    "difference of odd even digits \r\n",
    "\"\"\"\r\n",
    "num = input()\r\n",
    "re = sum(map(int, num[::2])) - sum(map(int, num[1::2]))\r\n",
    "print(re)\r\n",
    "# print(num)\r\n",
    "# print(num[::2])\r\n",
    "# print(num[1::2])"
   ],
   "outputs": [
    {
     "output_type": "stream",
     "name": "stdout",
     "text": [
      "5\n"
     ]
    }
   ],
   "metadata": {}
  },
  {
   "cell_type": "code",
   "execution_count": 5,
   "source": [
    "num = '123'\r\n",
    "sum(map(int, num))"
   ],
   "outputs": [
    {
     "output_type": "execute_result",
     "data": {
      "text/plain": [
       "6"
      ]
     },
     "metadata": {},
     "execution_count": 5
    }
   ],
   "metadata": {}
  }
 ],
 "metadata": {
  "orig_nbformat": 4,
  "language_info": {
   "name": "python",
   "version": "3.7.2",
   "mimetype": "text/x-python",
   "codemirror_mode": {
    "name": "ipython",
    "version": 3
   },
   "pygments_lexer": "ipython3",
   "nbconvert_exporter": "python",
   "file_extension": ".py"
  },
  "kernelspec": {
   "name": "python3",
   "display_name": "Python 3.7.2 32-bit"
  },
  "interpreter": {
   "hash": "8786318122129ba10eb40c9c8a2ede770fe6a9df50dfcd3c6edc33520e4c5279"
  }
 },
 "nbformat": 4,
 "nbformat_minor": 2
}