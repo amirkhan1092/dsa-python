{
 "cells": [
  {
   "cell_type": "code",
   "execution_count": 2,
   "source": [
    "\r\n"
   ],
   "outputs": [
    {
     "output_type": "stream",
     "name": "stdout",
     "text": [
      "Start, its 10:09AM\n"
     ]
    }
   ],
   "metadata": {}
  },
  {
   "cell_type": "code",
   "execution_count": 17,
   "source": [
    "\"\"\"\r\n",
    "\r\n",
    "\"\"\"\r\n",
    "def setOrders(orderList):\r\n",
    "    lst_prime = []\r\n",
    "    non_prime = []\r\n",
    "    for i in orderList:\r\n",
    "        if i.split()[-1].isalpha():\r\n",
    "            lst_prime.append(i)\r\n",
    "        else:\r\n",
    "            non_prime.append(i)  \r\n",
    "    \r\n",
    "    lst_prime.sort()\r\n",
    "    lst_prime.sort(key=lambda x: x.split()[1:])\r\n",
    "    lst_prime.extend(non_prime)        \r\n",
    "    return lst_prime\r\n",
    "\r\n",
    "            \r\n",
    "\r\n",
    "\r\n",
    "\r\n",
    "# order = ['zid 93 12', '[fp kindle book]', '[10a echo show]', '[10g 23 3432 3]', '[fa kindle book]']\r\n",
    "order = ['t2 13 121 98', 'r1 box ape bit', 'b4 xi me nu', 'br8 eat nim did', 'w2 has uni gry', 'f3 52 54 31', 'w1 has uni gry']\r\n",
    "setOrders(order)\r\n",
    "\r\n"
   ],
   "outputs": [
    {
     "output_type": "execute_result",
     "data": {
      "text/plain": [
       "['r1 box ape bit',\n",
       " 'br8 eat nim did',\n",
       " 'w1 has uni gry',\n",
       " 'w2 has uni gry',\n",
       " 'b4 xi me nu',\n",
       " 't2 13 121 98',\n",
       " 'f3 52 54 31']"
      ]
     },
     "metadata": {},
     "execution_count": 17
    }
   ],
   "metadata": {}
  },
  {
   "cell_type": "code",
   "execution_count": 8,
   "source": [
    "def applicationPairs(deviceCapacity, foregroundApplist, backgroundApplist):\r\n",
    "  \r\n",
    "    comb1 = []\r\n",
    "    mx = 0\r\n",
    "    for i in range(len(foregroundApplist)):\r\n",
    "        for j in range(len(backgroundApplist)):\r\n",
    "            x = foregroundApplist[i][1] + backgroundApplist[j][1]\r\n",
    "            if x < deviceCapacity:\r\n",
    "                if x > mx:\r\n",
    "                    comb = [foregroundApplist[i][0],  backgroundApplist[j][0]]\r\n",
    "                    mx = x\r\n",
    "            elif x == deviceCapacity:\r\n",
    "                comb1.append([foregroundApplist[i][0],  backgroundApplist[j][0]])\r\n",
    "\r\n",
    "    return comb if len(comb1) == 0 else comb1            \r\n",
    "\r\n",
    "\r\n",
    "capacity = int(input())\r\n",
    "foreground = eval(input())\r\n",
    "background = eval(input())\r\n",
    "out = applicationPairs(capacity, foreground, background)\r\n",
    "print(out)"
   ],
   "outputs": [
    {
     "output_type": "stream",
     "name": "stdout",
     "text": [
      "[[2, 4], [3, 2]]\n"
     ]
    }
   ],
   "metadata": {}
  }
 ],
 "metadata": {
  "orig_nbformat": 4,
  "language_info": {
   "name": "python",
   "version": "3.7.2",
   "mimetype": "text/x-python",
   "codemirror_mode": {
    "name": "ipython",
    "version": 3
   },
   "pygments_lexer": "ipython3",
   "nbconvert_exporter": "python",
   "file_extension": ".py"
  },
  "kernelspec": {
   "name": "python3",
   "display_name": "Python 3.7.2 32-bit"
  },
  "interpreter": {
   "hash": "8786318122129ba10eb40c9c8a2ede770fe6a9df50dfcd3c6edc33520e4c5279"
  }
 },
 "nbformat": 4,
 "nbformat_minor": 2
}