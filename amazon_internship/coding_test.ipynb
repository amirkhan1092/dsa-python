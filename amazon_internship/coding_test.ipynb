{
 "cells": [
  {
   "cell_type": "code",
   "execution_count": 2,
   "metadata": {},
   "outputs": [
    {
     "name": "stdout",
     "output_type": "stream",
     "text": [
      "Start, its 10:09AM\n"
     ]
    }
   ],
   "source": [
    "\n"
   ]
  },
  {
   "cell_type": "code",
   "execution_count": 17,
   "metadata": {},
   "outputs": [
    {
     "data": {
      "text/plain": [
       "['r1 box ape bit',\n",
       " 'br8 eat nim did',\n",
       " 'w1 has uni gry',\n",
       " 'w2 has uni gry',\n",
       " 'b4 xi me nu',\n",
       " 't2 13 121 98',\n",
       " 'f3 52 54 31']"
      ]
     },
     "execution_count": 17,
     "metadata": {},
     "output_type": "execute_result"
    }
   ],
   "source": [
    "\"\"\"\n",
    "\n",
    "\"\"\"\n",
    "def setOrders(orderList):\n",
    "    lst_prime = []\n",
    "    non_prime = []\n",
    "    for i in orderList:\n",
    "        if i.split()[-1].isalpha():\n",
    "            lst_prime.append(i)\n",
    "        else:\n",
    "            non_prime.append(i)  \n",
    "    \n",
    "    lst_prime.sort()\n",
    "    lst_prime.sort(key=lambda x: x.split()[1:])\n",
    "    lst_prime.extend(non_prime)        \n",
    "    return lst_prime\n",
    "\n",
    "            \n",
    "\n",
    "# order = ['zid 93 12', '[fp kindle book]', '[10a echo show]', '[10g 23 3432 3]', '[fa kindle book]']\n",
    "order = ['t2 13 121 98', 'r1 box ape bit', 'b4 xi me nu', 'br8 eat nim did', 'w2 has uni gry', 'f3 52 54 31', 'w1 has uni gry']\n",
    "setOrders(order)\n",
    "\n"
   ]
  },
  {
   "cell_type": "code",
   "execution_count": 8,
   "metadata": {},
   "outputs": [
    {
     "name": "stdout",
     "output_type": "stream",
     "text": [
      "[[2, 4], [3, 2]]\n"
     ]
    }
   ],
   "source": [
    "def applicationPairs(deviceCapacity, foregroundApplist, backgroundApplist):\n",
    "  \n",
    "    comb1 = []\n",
    "    mx = 0\n",
    "    for i in range(len(foregroundApplist)):\n",
    "        for j in range(len(backgroundApplist)):\n",
    "            x = foregroundApplist[i][1] + backgroundApplist[j][1]\n",
    "            if x < deviceCapacity:\n",
    "                if x > mx:\n",
    "                    comb = [foregroundApplist[i][0],  backgroundApplist[j][0]]\n",
    "                    mx = x\n",
    "            elif x == deviceCapacity:\n",
    "                comb1.append([foregroundApplist[i][0],  backgroundApplist[j][0]])\n",
    "\n",
    "    return comb if len(comb1) == 0 else comb1            \n",
    "\n",
    "\n",
    "capacity = int(input())\n",
    "foreground = eval(input())\n",
    "background = eval(input())\n",
    "out = applicationPairs(capacity, foreground, background)\n",
    "print(out)"
   ]
  },
  {
   "cell_type": "code",
   "execution_count": 2,
   "metadata": {},
   "outputs": [
    {
     "data": {
      "text/plain": [
       "'hello'"
      ]
     },
     "execution_count": 2,
     "metadata": {},
     "output_type": "execute_result"
    }
   ],
   "source": [
    "'hello' * True"
   ]
  }
 ],
 "metadata": {
  "interpreter": {
   "hash": "8786318122129ba10eb40c9c8a2ede770fe6a9df50dfcd3c6edc33520e4c5279"
  },
  "kernelspec": {
   "display_name": "Python 3.7.2 32-bit",
   "name": "python3"
  },
  "language_info": {
   "codemirror_mode": {
    "name": "ipython",
    "version": 3
   },
   "file_extension": ".py",
   "mimetype": "text/x-python",
   "name": "python",
   "nbconvert_exporter": "python",
   "pygments_lexer": "ipython3",
   "version": "3.7.2"
  },
  "orig_nbformat": 4
 },
 "nbformat": 4,
 "nbformat_minor": 2
}
