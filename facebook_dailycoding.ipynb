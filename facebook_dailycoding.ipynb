{
 "cells": [
  {
   "cell_type": "code",
   "execution_count": null,
   "source": [
    "\"\"\"\r\n",
    "This problem was asked by Facebook.\r\n",
    "Given three 32-bit integers x, y, and b, \r\n",
    "return x if b is 1 and y if b is 0, using only mathematical or bit operations. \r\n",
    "You can assume b can only be 1 or 0.\r\n",
    "\"\"\""
   ],
   "outputs": [],
   "metadata": {}
  },
  {
   "cell_type": "code",
   "execution_count": null,
   "source": [
    "# solution \r\n",
    "def three_number(x, y, b):\r\n",
    "    return x * b + y * (1 - b)\r\n",
    "\r\n",
    "\r\n",
    "\r\n",
    "x = int(input(\"Enter the number with range of 32 bits \"))\r\n",
    "y = int(input(\"Enter the second number with range of 32 bits \"))\r\n",
    "\r\n",
    "b = int(input(\"Value of thurshold: 1/0\"))\r\n",
    "\r\n",
    "\r\n",
    "\r\n",
    "\r\n",
    "\r\n"
   ],
   "outputs": [],
   "metadata": {}
  }
 ],
 "metadata": {
  "orig_nbformat": 4,
  "language_info": {
   "name": "python"
  }
 },
 "nbformat": 4,
 "nbformat_minor": 2
}