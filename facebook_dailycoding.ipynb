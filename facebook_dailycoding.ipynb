{
 "cells": [
  {
   "cell_type": "code",
   "execution_count": null,
   "source": [
    "\"\"\"\r\n",
    "This problem was asked by Facebook.\r\n",
    "Given three 32-bit integers x, y, and b, \r\n",
    "return x if b is 1 and y if b is 0, using only mathematical or bit operations. \r\n",
    "You can assume b can only be 1 or 0.\r\n",
    "\"\"\""
   ],
   "outputs": [],
   "metadata": {}
  },
  {
   "cell_type": "code",
   "execution_count": 3,
   "source": [
    "# solution \r\n",
    "def return_value(x, y, b):\r\n",
    "    mask = 2 ** 32 -1\r\n",
    "    x = x & mask\r\n",
    "    y = y & mask \r\n",
    "    return x * b + y * (1 - b)\r\n",
    "\r\n",
    "\r\n",
    "x = int(input(\"Enter the number with range of 32 bits \"))\r\n",
    "y = int(input(\"Enter the second number with range of 32 bits \"))\r\n",
    "b = int(input(\"Value of thurshold: 1/0\"))\r\n",
    "print(return_value(x, y, b))\r\n",
    "\r\n",
    "\r\n",
    "\r\n",
    "\r\n",
    "\r\n",
    "\r\n"
   ],
   "outputs": [
    {
     "output_type": "stream",
     "name": "stdout",
     "text": [
      "2\n"
     ]
    }
   ],
   "metadata": {}
  },
  {
   "cell_type": "code",
   "execution_count": null,
   "source": [],
   "outputs": [],
   "metadata": {}
  }
 ],
 "metadata": {
  "orig_nbformat": 4,
  "language_info": {
   "name": "python",
   "version": "3.7.2",
   "mimetype": "text/x-python",
   "codemirror_mode": {
    "name": "ipython",
    "version": 3
   },
   "pygments_lexer": "ipython3",
   "nbconvert_exporter": "python",
   "file_extension": ".py"
  },
  "kernelspec": {
   "name": "python3",
   "display_name": "Python 3.7.2 32-bit"
  },
  "interpreter": {
   "hash": "8786318122129ba10eb40c9c8a2ede770fe6a9df50dfcd3c6edc33520e4c5279"
  }
 },
 "nbformat": 4,
 "nbformat_minor": 2
}