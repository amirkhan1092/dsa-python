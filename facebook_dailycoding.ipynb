{
 "cells": [
  {
   "cell_type": "code",
   "execution_count": null,
   "metadata": {},
   "outputs": [],
   "source": [
    "\"\"\"\n",
    "This problem was asked by Facebook.\n",
    "Given three 32-bit integers x, y, and b, \n",
    "return x if b is 1 and y if b is 0, using only mathematical or bit operations. \n",
    "You can assume b can only be 1 or 0.\n",
    "\"\"\""
   ]
  },
  {
   "cell_type": "code",
   "execution_count": 3,
   "metadata": {},
   "outputs": [
    {
     "name": "stdout",
     "output_type": "stream",
     "text": [
      "2\n"
     ]
    }
   ],
   "source": [
    "# solution \n",
    "def return_value(x, y, b):\n",
    "    mask = 2 ** 32 -1\n",
    "    x = x & mask\n",
    "    y = y & mask \n",
    "    return x * b + y * (1 - b)\n",
    "\n",
    "\n",
    "x = int(input(\"Enter the number with range of 32 bits \"))\n",
    "y = int(input(\"Enter the second number with range of 32 bits \"))\n",
    "b = int(input(\"Value of thurshold: 1/0\"))\n",
    "print(return_value(x, y, b))\n",
    "\n",
    "\n",
    "\n",
    "\n",
    "\n",
    "\n"
   ]
  },
  {
   "cell_type": "code",
   "execution_count": null,
   "metadata": {},
   "outputs": [],
   "source": []
  }
 ],
 "metadata": {
  "interpreter": {
   "hash": "8786318122129ba10eb40c9c8a2ede770fe6a9df50dfcd3c6edc33520e4c5279"
  },
  "kernelspec": {
   "display_name": "Python 3.7.2 32-bit",
   "name": "python3"
  },
  "language_info": {
   "codemirror_mode": {
    "name": "ipython",
    "version": 3
   },
   "file_extension": ".py",
   "mimetype": "text/x-python",
   "name": "python",
   "nbconvert_exporter": "python",
   "pygments_lexer": "ipython3",
   "version": "3.7.2"
  },
  "orig_nbformat": 4
 },
 "nbformat": 4,
 "nbformat_minor": 2
}
