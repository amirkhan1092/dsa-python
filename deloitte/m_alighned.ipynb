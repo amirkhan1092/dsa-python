{
 "cells": [
  {
   "cell_type": "code",
   "execution_count": null,
   "metadata": {},
   "outputs": [],
   "source": [
    "\"\"\n",
    "\n",
    "\n",
    "def solution(A: list, m:int):\n",
    "    pass\n",
    "\n",
    "\n",
    "Arr = [1, 2, 3, 4, 5]\n",
    "n = 2\n",
    "print(solution(Arr, n))\n",
    "\n"
   ]
  },
  {
   "cell_type": "code",
   "execution_count": 1,
   "metadata": {},
   "outputs": [
    {
     "name": "stdout",
     "output_type": "stream",
     "text": [
      "We have all the colors of traffic lights\n"
     ]
    }
   ],
   "source": [
    "\n",
    "list1=[\"Red\",\"Green\",\"Yellow\",\"Orange\",\"Black\"]\n",
    "\n",
    "if \"Red\" in list1 and \"Green\" in list1 and \"Yellow\" in list1:print(\"We have all the colors of traffic lights\")"
   ]
  }
 ],
 "metadata": {
  "interpreter": {
   "hash": "ac63e7d2902d829a95718f514f583b39cb52f10e7c5524becb094a341f2ea3ca"
  },
  "kernelspec": {
   "display_name": "Python 3.10.0 64-bit (windows store)",
   "language": "python",
   "name": "python3"
  },
  "language_info": {
   "codemirror_mode": {
    "name": "ipython",
    "version": 3
   },
   "file_extension": ".py",
   "mimetype": "text/x-python",
   "name": "python",
   "nbconvert_exporter": "python",
   "pygments_lexer": "ipython3",
   "version": "3.10.0"
  },
  "orig_nbformat": 4
 },
 "nbformat": 4,
 "nbformat_minor": 2
}
