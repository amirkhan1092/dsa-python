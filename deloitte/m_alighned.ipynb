{
 "cells": [
  {
   "cell_type": "code",
   "execution_count": null,
   "metadata": {},
   "outputs": [],
   "source": [
    "\"\"\n",
    "\n",
    "\n",
    "def solution(A: list, m:int):\n",
    "    pass\n",
    "\n",
    "\n",
    "Arr = [1, 2, 3, 4, 5]\n",
    "n = 2\n",
    "print(solution(Arr, n))\n",
    "\n"
   ]
  }
 ],
 "metadata": {
  "language_info": {
   "name": "python"
  },
  "orig_nbformat": 4
 },
 "nbformat": 4,
 "nbformat_minor": 2
}
