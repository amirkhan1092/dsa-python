{
 "cells": [
  {
   "cell_type": "code",
   "execution_count": 2,
   "source": [
    "\"\"\"\r\n",
    "Write a Python function histogram(l) that takes as input a list of integers with repetitions and returns a list of pairs as follows:.\r\n",
    "\r\n",
    "for each number n that appears in l, there should be exactly one pair (n,r) in the list returned by the function, where r is the number of repetitions of n in l.\r\n",
    "\r\n",
    "the final list should be sorted in ascending order by r, the number of repetitions. For numbers that occur with the same number of repetitions, arrange the pairs in ascending order of the value of the number.\r\n",
    "\r\n",
    "For instance:\r\n",
    "\r\n",
    ">>> histogram([13,12,11,13,14,13,7,7,13,14,12])\r\n",
    "[(11, 1), (7, 2), (12, 2), (14, 2), (13, 4)]\r\n",
    "\r\n",
    ">>> histogram([7,12,11,13,7,11,13,14,12])\r\n",
    "[(14, 1), (7, 2), (11, 2), (12, 2), (13, 2)]\r\n",
    "\r\n",
    ">>> histogram([13,7,12,7,11,13,14,13,7,11,13,14,12,14,14,7])\r\n",
    "[(11, 2), (12, 2), (7, 4), (13, 4), (14, 4)]\r\n",
    "\"\"\"\r\n",
    "\r\n",
    "def histogram(l:list)-> list:\r\n",
    "    dct = {}\r\n",
    "    for i in l:\r\n",
    "        dct[i] = l.count(i)\r\n",
    "    return sorted(dct.items(), key=lambda x : x[-1])\r\n",
    "\r\n",
    "histogram([13,12,11,13,14,13,7,7,13,14,12])"
   ],
   "outputs": [
    {
     "output_type": "execute_result",
     "data": {
      "text/plain": [
       "[(1, 11), (2, 12), (4, 13)]"
      ]
     },
     "metadata": {},
     "execution_count": 2
    }
   ],
   "metadata": {}
  }
 ],
 "metadata": {
  "orig_nbformat": 4,
  "language_info": {
   "name": "python",
   "version": "3.7.2",
   "mimetype": "text/x-python",
   "codemirror_mode": {
    "name": "ipython",
    "version": 3
   },
   "pygments_lexer": "ipython3",
   "nbconvert_exporter": "python",
   "file_extension": ".py"
  },
  "kernelspec": {
   "name": "python3",
   "display_name": "Python 3.7.2 32-bit"
  },
  "interpreter": {
   "hash": "8786318122129ba10eb40c9c8a2ede770fe6a9df50dfcd3c6edc33520e4c5279"
  }
 },
 "nbformat": 4,
 "nbformat_minor": 2
}