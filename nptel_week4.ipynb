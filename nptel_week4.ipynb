{
 "cells": [
  {
   "cell_type": "code",
   "execution_count": 11,
   "metadata": {},
   "outputs": [
    {
     "name": "stdout",
     "output_type": "stream",
     "text": [
      "(14, 1) (7, 2) (11, 2) (12, 2) (13, 2)\n",
      "\n"
     ]
    }
   ],
   "source": [
    "\"\"\"\n",
    "Write a Python function histogram(l) that takes as input a list of integers with repetitions and returns a list of pairs as follows:.\n",
    "\n",
    "for each number n that appears in l, there should be exactly one pair (n,r) in the list returned by the function, where r is the number of repetitions of n in l.\n",
    "\n",
    "the final list should be sorted in ascending order by r, the number of repetitions. For numbers that occur with the same number of repetitions, arrange the pairs in ascending order of the value of the number.\n",
    "\n",
    "For instance:\n",
    ">>> histogram([13,12,11,13,14,13,7,7,13,14,12])\n",
    "[(11, 1), (7, 2), (12, 2), (14, 2), (13, 4)]\n",
    "\n",
    ">>> histogram([7,12,11,13,7,11,13,14,12])\n",
    "[(14, 1), (7, 2), (11, 2), (12, 2), (13, 2)]\n",
    "\n",
    ">>> histogram([13,7,12,7,11,13,14,13,7,11,13,14,12,14,14,7])\n",
    "[(11, 2), (12, 2), (7, 4), (13, 4), (14, 4)]\n",
    "\"\"\"\n",
    "\n",
    "def histogram(l:list)-> list:\n",
    "    dct = {i:l.count(i) for i in l}\n",
    "    return sorted(sorted(dct.items()), key=lambda x : x[-1])\n",
    "\n",
    "# def histogram(L):\n",
    "#     from collections import Counter\n",
    "#     lst = list(Counter(L).items())\n",
    "#     lst.sort()\n",
    "#     lst.sort(key=lambda x:x[1])\n",
    "#     # lst.sort()\n",
    "#     return lst\n",
    "# x = list(map(int, input().split()))\n",
    "x = [7,12,11,13,7,11,13,14,12]\n",
    "print(*histogram(x))\n",
    "\n",
    "\n",
    "\n",
    "\n",
    "# input()\n",
    "# print(*histogram(list(map(int, input().split()))))"
   ]
  },
  {
   "cell_type": "code",
   "execution_count": 8,
   "metadata": {},
   "outputs": [
    {
     "data": {
      "text/plain": [
       "('UGM2021001',\n",
       " 'Rohit Grewal',\n",
       " [('MA101', 'Calculus', 'AB'), ('PH101', 'Mechanics', 'B')],\n",
       " 'UGP2021132',\n",
       " 'Neha Talwar',\n",
       " [('PH101', 'Mechanics', 'B')])"
      ]
     },
     "execution_count": 8,
     "metadata": {},
     "output_type": "execute_result"
    }
   ],
   "source": [
    "\"\"\"\n",
    "A college maintains academic information about students in three separate lists\n",
    "\n",
    "Course details: A list of pairs of form (coursecode,coursename), where both entries are strings. For instance,\n",
    "[ (\"MA101\",\"Calculus\"),(\"PH101\",\"Mechanics\"),(\"HU101\",\"English\") ]\n",
    "\n",
    "Student details: A list of pairs of form (rollnumber,name), where both entries are strings. For instance,\n",
    "[ (\"UGM2018001\",\"Rohit Grewal\"),(\"UGP2018132\",\"Neha Talwar\") ]\n",
    "\n",
    "A list of triples of the form (rollnumber,coursecode,grade), where all entries are strings. For instance,\n",
    "[ (\"UGM2018001\", \"MA101\", \"AB\"), (\"UGP2018132\", \"PH101\", \"B\"), (\"UGM2018001\", \"PH101\", \"B\") ]. You may assume that each roll number and course code in the grade list appears in the student details and course details, respectively.\n",
    "\n",
    "Your task is to write a function transcript (coursedetails,studentdetails,grades) that takes these three lists as input and produces consolidated grades for each student. Each of the input lists may have its entries listed in arbitrary order. Each entry in the returned list should be a tuple of the form\n",
    "\n",
    "(rollnumber, name,[(coursecode_1,coursename_1,grade_1),...,(coursecode_k,coursename_k,grade_k)])\n",
    "\n",
    "where the student has grades for k >= 1 courses reported in the input list grades.\n",
    "\n",
    "The output list should be organized as follows.\n",
    "\n",
    "The tuples shold sorted in ascending order by rollnumber\n",
    "\n",
    "Each student's grades should sorted in ascending order by coursecode\n",
    "\n",
    "For instance\n",
    "\n",
    " \n",
    ">>>transcript([(\"MA101\",\"Calculus\"),(\"PH101\",\"Mechanics\"),(\"HU101\",\"English\")],[(\"UGM2021001\",\"Rohit Grewal\"),(\"UGP2021132\",\"Neha Talwar\")],[(\"UGM2021001\",\"MA101\",\"AB\"),(\"UGP2021132\",\"PH101\",\"B\"),(\"UGM2021001\",\"PH101\",\"B\")])\n",
    "\n",
    "[('UGM2021001', 'Rohit Grewal', [('MA101', 'Calculus', 'AB'), ('PH101', 'Mechanics', 'B')]), ('UGP2021132', 'Neha Talwar', [('PH101', 'Mechanics', 'B')])]\n",
    "\n",
    ">>>transcript([(\"T1\",\"Test 1\"),(\"T2\",\"Test 2\"),(\"T3\",\"Test 3\")],[(\"Opener\",\"Rohit Sharma\"),(\"Captain\",\"Virat Kohli\"),(\"No3\",\"Cheteshwar Pujara\")],[(\"Opener\",\"T1\",\"14\"),(\"Captain\",\"T1\",\"33\"),(\"No3\",\"T1\",\"30\"),(\"Opener\",\"T2\",\"55\") ,(\"Captain\",\"T2\",\"158\"),(\"No3\",\"T2\",\"19\"), (\"Opener\",\"T3\",\"33\"),(\"Captain\",\"T3\",\"95\"),(\"No3\",\"T3\",\"51\")])\n",
    "\n",
    "[('Captain', 'Virat Kohli', [('T1', 'Test 1', '33'), ('T2', 'Test 2', '158'), ('T3', 'Test 3', '95')]), ('No3', 'Cheteshwar Pujara', [('T1', 'Test 1', '30'), ('T2', 'Test 2', '19'), ('T3', 'Test 3', '51')]), ('Opener', 'Rohit Sharma', [('T1', 'Test 1', '14'), ('T2', 'Test 2', '55'), ('T3', 'Test 3', '33')])]\n",
    "\n",
    "\"\"\"\n",
    "\n",
    "\n",
    "def transcript(code_course, roll_name, roll_code_grade):\n",
    "    # pass\n",
    "    # (rollnumber, name,[(coursecode_1,coursename_1,grade_1),...,(coursecode_k,coursename_k,grade_k)])\n",
    "    code_course = dict(code_course)\n",
    "    lst = []\n",
    "    for roll, name in roll_name:\n",
    "        lst.append(roll)\n",
    "        lst.append(name)\n",
    "        tmp_list = []\n",
    "        for r, c, g in roll_code_grade:\n",
    "            if r == roll:\n",
    "                tmp_list.append((c, code_course[c], g))\n",
    "        lst.append(tmp_list)\n",
    "    transcript_tuple = tuple(lst)\n",
    "    return transcript_tuple\n",
    "\n",
    "\n",
    "\n",
    "\n",
    "\n",
    "transcript([(\"MA101\",\"Calculus\"),(\"PH101\",\"Mechanics\"),(\"HU101\",\"English\")], \n",
    "    [(\"UGM2021001\",\"Rohit Grewal\"),(\"UGP2021132\",\"Neha Talwar\")],\n",
    "    [(\"UGM2021001\",\"MA101\",\"AB\"),(\"UGP2021132\",\"PH101\",\"B\"),(\"UGM2021001\",\"PH101\",\"B\")])\n",
    "\n"
   ]
  },
  {
   "cell_type": "code",
   "execution_count": 9,
   "metadata": {},
   "outputs": [
    {
     "data": {
      "text/plain": [
       "{'name': 'Amir khan',\n",
       " 'score': [23, 24, 22, 25],\n",
       " 'Orgenization': 'GLA Univeristy'}"
      ]
     },
     "execution_count": 9,
     "metadata": {},
     "output_type": "execute_result"
    }
   ],
   "source": [
    "dct = {'name': 'Amir khan', 'score': [23, 24, 22], 'Orgenization':\"GLA Univeristy\" }\n",
    "score = 25\n",
    "if 'score' in dct:\n",
    "    dct['score'].append(score)\n",
    "\n",
    "dct"
   ]
  },
  {
   "cell_type": "code",
   "execution_count": 5,
   "metadata": {},
   "outputs": [
    {
     "name": "stdout",
     "output_type": "stream",
     "text": [
      "A B C D E F\n"
     ]
    }
   ],
   "source": [
    "print(*map(chr, range(65, 71)))"
   ]
  }
 ],
 "metadata": {
  "interpreter": {
   "hash": "8786318122129ba10eb40c9c8a2ede770fe6a9df50dfcd3c6edc33520e4c5279"
  },
  "kernelspec": {
   "display_name": "Python 3.7.2 32-bit",
   "name": "python3"
  },
  "language_info": {
   "codemirror_mode": {
    "name": "ipython",
    "version": 3
   },
   "file_extension": ".py",
   "mimetype": "text/x-python",
   "name": "python",
   "nbconvert_exporter": "python",
   "pygments_lexer": "ipython3",
   "version": "3.7.2"
  },
  "orig_nbformat": 4
 },
 "nbformat": 4,
 "nbformat_minor": 2
}
