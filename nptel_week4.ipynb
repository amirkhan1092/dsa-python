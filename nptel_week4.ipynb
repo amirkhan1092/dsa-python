{
 "cells": [
  {
   "cell_type": "code",
   "execution_count": 3,
   "source": [
    "\"\"\"\r\n",
    "Write a Python function histogram(l) that takes as input a list of integers with repetitions and returns a list of pairs as follows:.\r\n",
    "\r\n",
    "for each number n that appears in l, there should be exactly one pair (n,r) in the list returned by the function, where r is the number of repetitions of n in l.\r\n",
    "\r\n",
    "the final list should be sorted in ascending order by r, the number of repetitions. For numbers that occur with the same number of repetitions, arrange the pairs in ascending order of the value of the number.\r\n",
    "\r\n",
    "For instance:\r\n",
    "\r\n",
    ">>> histogram([13,12,11,13,14,13,7,7,13,14,12])\r\n",
    "[(11, 1), (7, 2), (12, 2), (14, 2), (13, 4)]\r\n",
    "\r\n",
    ">>> histogram([7,12,11,13,7,11,13,14,12])\r\n",
    "[(14, 1), (7, 2), (11, 2), (12, 2), (13, 2)]\r\n",
    "\r\n",
    ">>> histogram([13,7,12,7,11,13,14,13,7,11,13,14,12,14,14,7])\r\n",
    "[(11, 2), (12, 2), (7, 4), (13, 4), (14, 4)]\r\n",
    "\"\"\"\r\n",
    "\r\n",
    "def histogram(l:list)-> list:\r\n",
    "    dct = {}\r\n",
    "    for i in l:\r\n",
    "        dct[i] = l.count(i)\r\n",
    "    return sorted(dct.items(), key=lambda x : x[-1])\r\n",
    "\r\n",
    "histogram([13,12,11,13,14,13,7,7,13,14,12])"
   ],
   "outputs": [
    {
     "output_type": "execute_result",
     "data": {
      "text/plain": [
       "[(11, 1), (12, 2), (14, 2), (7, 2), (13, 4)]"
      ]
     },
     "metadata": {},
     "execution_count": 3
    }
   ],
   "metadata": {}
  },
  {
   "cell_type": "code",
   "execution_count": 8,
   "source": [
    "\"\"\"\r\n",
    "A college maintains academic information about students in three separate lists\r\n",
    "\r\n",
    "Course details: A list of pairs of form (coursecode,coursename), where both entries are strings. For instance,\r\n",
    "[ (\"MA101\",\"Calculus\"),(\"PH101\",\"Mechanics\"),(\"HU101\",\"English\") ]\r\n",
    "\r\n",
    "Student details: A list of pairs of form (rollnumber,name), where both entries are strings. For instance,\r\n",
    "[ (\"UGM2018001\",\"Rohit Grewal\"),(\"UGP2018132\",\"Neha Talwar\") ]\r\n",
    "\r\n",
    "A list of triples of the form (rollnumber,coursecode,grade), where all entries are strings. For instance,\r\n",
    "[ (\"UGM2018001\", \"MA101\", \"AB\"), (\"UGP2018132\", \"PH101\", \"B\"), (\"UGM2018001\", \"PH101\", \"B\") ]. You may assume that each roll number and course code in the grade list appears in the student details and course details, respectively.\r\n",
    "\r\n",
    "Your task is to write a function transcript (coursedetails,studentdetails,grades) that takes these three lists as input and produces consolidated grades for each student. Each of the input lists may have its entries listed in arbitrary order. Each entry in the returned list should be a tuple of the form\r\n",
    "\r\n",
    "(rollnumber, name,[(coursecode_1,coursename_1,grade_1),...,(coursecode_k,coursename_k,grade_k)])\r\n",
    "\r\n",
    "where the student has grades for k >= 1 courses reported in the input list grades.\r\n",
    "\r\n",
    "The output list should be organized as follows.\r\n",
    "\r\n",
    "The tuples shold sorted in ascending order by rollnumber\r\n",
    "\r\n",
    "Each student's grades should sorted in ascending order by coursecode\r\n",
    "\r\n",
    "For instance\r\n",
    "\r\n",
    " \r\n",
    ">>>transcript([(\"MA101\",\"Calculus\"),(\"PH101\",\"Mechanics\"),(\"HU101\",\"English\")],[(\"UGM2021001\",\"Rohit Grewal\"),(\"UGP2021132\",\"Neha Talwar\")],[(\"UGM2021001\",\"MA101\",\"AB\"),(\"UGP2021132\",\"PH101\",\"B\"),(\"UGM2021001\",\"PH101\",\"B\")])\r\n",
    "\r\n",
    "[('UGM2021001', 'Rohit Grewal', [('MA101', 'Calculus', 'AB'), ('PH101', 'Mechanics', 'B')]), ('UGP2021132', 'Neha Talwar', [('PH101', 'Mechanics', 'B')])]\r\n",
    "\r\n",
    ">>>transcript([(\"T1\",\"Test 1\"),(\"T2\",\"Test 2\"),(\"T3\",\"Test 3\")],[(\"Opener\",\"Rohit Sharma\"),(\"Captain\",\"Virat Kohli\"),(\"No3\",\"Cheteshwar Pujara\")],[(\"Opener\",\"T1\",\"14\"),(\"Captain\",\"T1\",\"33\"),(\"No3\",\"T1\",\"30\"),(\"Opener\",\"T2\",\"55\") ,(\"Captain\",\"T2\",\"158\"),(\"No3\",\"T2\",\"19\"), (\"Opener\",\"T3\",\"33\"),(\"Captain\",\"T3\",\"95\"),(\"No3\",\"T3\",\"51\")])\r\n",
    "\r\n",
    "[('Captain', 'Virat Kohli', [('T1', 'Test 1', '33'), ('T2', 'Test 2', '158'), ('T3', 'Test 3', '95')]), ('No3', 'Cheteshwar Pujara', [('T1', 'Test 1', '30'), ('T2', 'Test 2', '19'), ('T3', 'Test 3', '51')]), ('Opener', 'Rohit Sharma', [('T1', 'Test 1', '14'), ('T2', 'Test 2', '55'), ('T3', 'Test 3', '33')])]\r\n",
    "\r\n",
    "\"\"\"\r\n",
    "\r\n",
    "\r\n",
    "def transcript(code_course, roll_name, roll_code_grade):\r\n",
    "    # pass\r\n",
    "    # (rollnumber, name,[(coursecode_1,coursename_1,grade_1),...,(coursecode_k,coursename_k,grade_k)])\r\n",
    "    code_course = dict(code_course)\r\n",
    "    lst = []\r\n",
    "    for roll, name in roll_name:\r\n",
    "        lst.append(roll)\r\n",
    "        lst.append(name)\r\n",
    "        tmp_list = []\r\n",
    "        for r, c, g in roll_code_grade:\r\n",
    "            if r == roll:\r\n",
    "                tmp_list.append((c, code_course[c], g))\r\n",
    "        lst.append(tmp_list)\r\n",
    "    transcript_tuple = tuple(lst)\r\n",
    "    return transcript_tuple\r\n",
    "\r\n",
    "\r\n",
    "\r\n",
    "\r\n",
    "\r\n",
    "transcript([(\"MA101\",\"Calculus\"),(\"PH101\",\"Mechanics\"),(\"HU101\",\"English\")], \r\n",
    "    [(\"UGM2021001\",\"Rohit Grewal\"),(\"UGP2021132\",\"Neha Talwar\")],\r\n",
    "    [(\"UGM2021001\",\"MA101\",\"AB\"),(\"UGP2021132\",\"PH101\",\"B\"),(\"UGM2021001\",\"PH101\",\"B\")])\r\n",
    "\r\n",
    "\r\n",
    "\r\n",
    "\r\n",
    "\r\n",
    "\r\n",
    "\r\n",
    "\r\n"
   ],
   "outputs": [
    {
     "output_type": "execute_result",
     "data": {
      "text/plain": [
       "('UGM2021001',\n",
       " 'Rohit Grewal',\n",
       " [('MA101', 'Calculus', 'AB'), ('PH101', 'Mechanics', 'B')],\n",
       " 'UGP2021132',\n",
       " 'Neha Talwar',\n",
       " [('PH101', 'Mechanics', 'B')])"
      ]
     },
     "metadata": {},
     "execution_count": 8
    }
   ],
   "metadata": {}
  },
  {
   "cell_type": "code",
   "execution_count": 9,
   "source": [
    "dct = {'name': 'Amir khan', 'score': [23, 24, 22], 'Orgenization':\"GLA Univeristy\" }\r\n",
    "score = 25\r\n",
    "if 'score' in dct:\r\n",
    "    dct['score'].append(score)\r\n",
    "\r\n",
    "dct"
   ],
   "outputs": [
    {
     "output_type": "execute_result",
     "data": {
      "text/plain": [
       "{'name': 'Amir khan',\n",
       " 'score': [23, 24, 22, 25],\n",
       " 'Orgenization': 'GLA Univeristy'}"
      ]
     },
     "metadata": {},
     "execution_count": 9
    }
   ],
   "metadata": {}
  }
 ],
 "metadata": {
  "orig_nbformat": 4,
  "language_info": {
   "name": "python",
   "version": "3.7.2",
   "mimetype": "text/x-python",
   "codemirror_mode": {
    "name": "ipython",
    "version": 3
   },
   "pygments_lexer": "ipython3",
   "nbconvert_exporter": "python",
   "file_extension": ".py"
  },
  "kernelspec": {
   "name": "python3",
   "display_name": "Python 3.7.2 32-bit"
  },
  "interpreter": {
   "hash": "8786318122129ba10eb40c9c8a2ede770fe6a9df50dfcd3c6edc33520e4c5279"
  }
 },
 "nbformat": 4,
 "nbformat_minor": 2
}