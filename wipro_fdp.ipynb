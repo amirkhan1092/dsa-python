{
 "cells": [
  {
   "cell_type": "code",
   "execution_count": 1,
   "metadata": {},
   "outputs": [
    {
     "name": "stdout",
     "output_type": "stream",
     "text": [
      "[-72, -36, -27, 0]\n"
     ]
    }
   ],
   "source": [
    "def maxMinusProduct(arr, num):\n",
    "    mx = max(arr)\n",
    "    return list(map(lambda x : x * mx, (map(lambda x: x -mx, arr))))\n",
    "\n",
    "arr = eval(input())  \n",
    "num = int(input())\n",
    "print(maxMinusProduct(arr, num))\n"
   ]
  },
  {
   "cell_type": "code",
   "execution_count": 22,
   "metadata": {},
   "outputs": [
    {
     "name": "stdout",
     "output_type": "stream",
     "text": [
      "150\n"
     ]
    }
   ],
   "source": [
    "# sum of positive numbers in a array \n",
    "def logest_subarraysize(arr, num):\n",
    "    dct = {}\n",
    "    count = 0\n",
    "    for i in range(len(arr)):\n",
    "        if count not in dct:\n",
    "            dct[count] = [i]\n",
    "        else:\n",
    "            dct[count].append(i)     \n",
    "\n",
    "\n",
    "\n",
    "\n",
    "def getSum_LS_sequence(ls, num):\n",
    "    lst = []\n",
    "    sm = 0\n",
    "    for i in ls:\n",
    "        if i < 0:\n",
    "            lst.append(sm)\n",
    "            sm = 0\n",
    "        else:    \n",
    "            sm += i\n",
    "    return max(lst)         \n",
    "# arr = eval(input())  # [-58, 32, 26, 92, -10, -4, 12, 0, 12, -2, 4, 32, -9, -7, 78, -79]\n",
    "arr = [-58, 32, 26, 92, -10, -4, 12, 0, 12, -2, 4, 32, -9, -7, 78, -79]\n",
    "# num = int(input())\n",
    "num = 16\n",
    "out = getSum_LS_sequence(arr, num)\n",
    "print(out)"
   ]
  },
  {
   "cell_type": "code",
   "execution_count": 21,
   "metadata": {},
   "outputs": [
    {
     "data": {
      "text/plain": [
       "<function max>"
      ]
     },
     "execution_count": 21,
     "metadata": {},
     "output_type": "execute_result"
    }
   ],
   "source": [
    "max"
   ]
  }
 ],
 "metadata": {
  "interpreter": {
   "hash": "6fd5d17f89328c3b072a96f6b1992bc24e08c15e7c7e5cf33f422471cdc1cbe3"
  },
  "kernelspec": {
   "display_name": "Python 3.7.7 ('tf')",
   "language": "python",
   "name": "python3"
  },
  "language_info": {
   "codemirror_mode": {
    "name": "ipython",
    "version": 3
   },
   "file_extension": ".py",
   "mimetype": "text/x-python",
   "name": "python",
   "nbconvert_exporter": "python",
   "pygments_lexer": "ipython3",
   "version": "3.10.2"
  },
  "orig_nbformat": 4
 },
 "nbformat": 4,
 "nbformat_minor": 2
}
