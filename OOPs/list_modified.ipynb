{
 "cells": [
  {
   "cell_type": "code",
   "execution_count": 1,
   "source": [
    "# collection of Objects \r\n",
    "# class: User define data type\r\n",
    "\r\n",
    "class Node:\r\n",
    "    def __init__(self, value=None) -> None:\r\n",
    "        self.value = value\r\n",
    "        self.next = None\r\n",
    "\r\n",
    "    def isEmpty(self):\r\n",
    "        return self.value == None\r\n",
    "\r\n",
    "    def append(self, value):\r\n",
    "        if self.isEmpty():\r\n",
    "            self.value = value\r\n",
    "            \r\n",
    "\r\n",
    "\r\n",
    "\r\n",
    "\r\n"
   ],
   "outputs": [],
   "metadata": {}
  },
  {
   "cell_type": "code",
   "execution_count": 2,
   "source": [
    "lst1 = Node()  # empty collection \r\n",
    "lst2 = Node(5)  # Collection with value \r\n",
    "\r\n",
    "print(lst1.isEmpty())\r\n",
    "print(lst2.isEmpty())"
   ],
   "outputs": [
    {
     "output_type": "stream",
     "name": "stdout",
     "text": [
      "True\n",
      "False\n"
     ]
    }
   ],
   "metadata": {}
  }
 ],
 "metadata": {
  "orig_nbformat": 4,
  "language_info": {
   "name": "python",
   "version": "3.7.1",
   "mimetype": "text/x-python",
   "codemirror_mode": {
    "name": "ipython",
    "version": 3
   },
   "pygments_lexer": "ipython3",
   "nbconvert_exporter": "python",
   "file_extension": ".py"
  },
  "kernelspec": {
   "name": "python3",
   "display_name": "Python 3.7.1 64-bit ('base': conda)"
  },
  "interpreter": {
   "hash": "f5ebe8b5f89e594da2b164f45250d907e894c2b2bd96676d17ecb664326f1bc2"
  }
 },
 "nbformat": 4,
 "nbformat_minor": 2
}