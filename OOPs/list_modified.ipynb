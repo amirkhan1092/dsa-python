{
 "cells": [
  {
   "cell_type": "code",
   "execution_count": 15,
   "source": [
    "# collection of Objects \r\n",
    "# class: User define data type\r\n",
    "\r\n",
    "class Node:\r\n",
    "    def __init__(self, value=None) -> None:\r\n",
    "        self.value = value\r\n",
    "        self.next = None\r\n",
    "\r\n",
    "    def isEmpty(self):\r\n",
    "        return self.value == None\r\n",
    "\r\n",
    "    def append(self, value):\r\n",
    "        if self.isEmpty():\r\n",
    "            self.value = value\r\n",
    "        elif self.next == None:\r\n",
    "            new_node = Node(value)\r\n",
    "            self.next = new_node\r\n",
    "        else:\r\n",
    "            (self.next).append(value)    \r\n",
    "        return None\r\n",
    "            \r\n",
    "\r\n",
    "\r\n",
    "\r\n",
    "\r\n"
   ],
   "outputs": [],
   "metadata": {}
  },
  {
   "cell_type": "code",
   "execution_count": 2,
   "source": [
    "lst1 = Node()  # empty collection \r\n",
    "lst2 = Node(5)  # Collection with value \r\n",
    "\r\n",
    "print(lst1.isEmpty())\r\n",
    "print(lst2.isEmpty())"
   ],
   "outputs": [
    {
     "output_type": "stream",
     "name": "stdout",
     "text": [
      "True\n",
      "False\n"
     ]
    }
   ],
   "metadata": {}
  },
  {
   "cell_type": "code",
   "execution_count": 17,
   "source": [
    "lst1 = Node(5)\r\n",
    "lst1.append(100)\r\n",
    "lst1.append(10)\r\n",
    "\r\n",
    "print(lst1.next.next.value)"
   ],
   "outputs": [
    {
     "output_type": "stream",
     "name": "stdout",
     "text": [
      "10\n"
     ]
    }
   ],
   "metadata": {}
  },
  {
   "cell_type": "code",
   "execution_count": 20,
   "source": [
    "\r\n",
    "# count number of objects \r\n",
    "ln = 0\r\n",
    "obj = lst1.next \r\n",
    "while obj != None:\r\n",
    "    ln += 1\r\n",
    "    obj = obj.next\r\n",
    "print(ln)    "
   ],
   "outputs": [
    {
     "output_type": "stream",
     "name": "stdout",
     "text": [
      "2\n"
     ]
    }
   ],
   "metadata": {}
  }
 ],
 "metadata": {
  "orig_nbformat": 4,
  "language_info": {
   "name": "python",
   "version": "3.7.1",
   "mimetype": "text/x-python",
   "codemirror_mode": {
    "name": "ipython",
    "version": 3
   },
   "pygments_lexer": "ipython3",
   "nbconvert_exporter": "python",
   "file_extension": ".py"
  },
  "kernelspec": {
   "name": "python3",
   "display_name": "Python 3.7.1 64-bit ('base': conda)"
  },
  "interpreter": {
   "hash": "f5ebe8b5f89e594da2b164f45250d907e894c2b2bd96676d17ecb664326f1bc2"
  }
 },
 "nbformat": 4,
 "nbformat_minor": 2
}