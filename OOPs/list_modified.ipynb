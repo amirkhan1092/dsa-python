{
 "cells": [
  {
   "cell_type": "code",
   "execution_count": 1,
   "source": [
    "# collection of Objects \r\n",
    "# class: User define data type\r\n",
    "\r\n",
    "class Node:\r\n",
    "    def __init__(self, value=None) -> None:\r\n",
    "        self.value = value\r\n",
    "        self.next = None\r\n",
    "\r\n",
    "    def isEmpty(self):\r\n",
    "        return self.value == None\r\n",
    "\r\n",
    "    def append(self, value):\r\n",
    "        if self.isEmpty():\r\n",
    "            self.value = value\r\n",
    "        elif self.next == None:\r\n",
    "            new_node = Node(value)\r\n",
    "            self.next = new_node\r\n",
    "        else:\r\n",
    "            (self.next).append(value)    \r\n",
    "        return None\r\n",
    "    def length(self):\r\n",
    "        ln = 0\r\n",
    "\r\n",
    "        obj = self.next \r\n",
    "        while obj != None:\r\n",
    "            ln += 1\r\n",
    "            obj = obj.next\r\n",
    "     \r\n",
    "        return ln \r\n",
    "    def pop(self):\r\n",
    "        temp = self\r\n",
    "        while temp.next != None:\r\n",
    "            temp = temp.next\r\n",
    "        out = temp.value\r\n",
    "        temp.value = None\r\n",
    "        return out\r\n",
    "\r\n",
    "    def __str__(self) -> str:\r\n",
    "        st = ''\r\n",
    "        temp = self\r\n",
    "        while temp.next != None: \r\n",
    "            st += str(temp.value) + \">\" \r\n",
    "            temp = temp.next\r\n",
    "\r\n",
    "        else:\r\n",
    "            if self.value:\r\n",
    "                st += str(self.value)\r\n",
    "        # st += '>'\r\n",
    "        return st              \r\n",
    "\r\n",
    "\r\n",
    "\r\n",
    "\r\n"
   ],
   "outputs": [],
   "metadata": {}
  },
  {
   "cell_type": "code",
   "execution_count": 2,
   "source": [
    "lst1 = Node()  # empty collection \r\n",
    "lst2 = Node(5)  # Collection with value \r\n",
    "\r\n",
    "print(lst1.isEmpty())\r\n",
    "print(lst2.isEmpty())"
   ],
   "outputs": [
    {
     "output_type": "stream",
     "name": "stdout",
     "text": [
      "True\n",
      "False\n"
     ]
    }
   ],
   "metadata": {}
  },
  {
   "cell_type": "code",
   "execution_count": 2,
   "source": [
    "lst1 = Node(5)\r\n",
    "lst1.append(100)\r\n",
    "lst1.append(10)\r\n",
    "lst1.append(1)\r\n",
    "print(lst1.next.next.value)\r\n",
    "print(lst1.length())\r\n",
    "print(lst1)"
   ],
   "outputs": [
    {
     "output_type": "stream",
     "name": "stdout",
     "text": [
      "10\n",
      "3\n",
      "5>100>10>5\n"
     ]
    }
   ],
   "metadata": {}
  },
  {
   "cell_type": "code",
   "execution_count": 20,
   "source": [
    "\r\n",
    "# count number of objects \r\n",
    "ln = 0\r\n",
    "obj = lst1.next \r\n",
    "while obj != None:\r\n",
    "    ln += 1\r\n",
    "    obj = obj.next\r\n",
    "print(ln)    "
   ],
   "outputs": [
    {
     "output_type": "stream",
     "name": "stdout",
     "text": [
      "2\n"
     ]
    }
   ],
   "metadata": {}
  },
  {
   "cell_type": "code",
   "execution_count": 3,
   "source": [
    "# pop operation \r\n",
    "cl1 = Node(5)\r\n",
    "cl1.append(20)\r\n",
    "# print(cl1.pop())\r\n",
    "cl1.length()"
   ],
   "outputs": [
    {
     "output_type": "execute_result",
     "data": {
      "text/plain": [
       "1"
      ]
     },
     "metadata": {},
     "execution_count": 3
    }
   ],
   "metadata": {}
  },
  {
   "cell_type": "code",
   "execution_count": 5,
   "source": [
    "a = \"12\"\r\n",
    "b = \"32.0\"\r\n",
    "c = a + b\r\n",
    "st = f\"Sum of {a} and {b} is {c}\"\r\n",
    "print(st)"
   ],
   "outputs": [
    {
     "output_type": "stream",
     "name": "stdout",
     "text": [
      "Sum of 12 and 32.0 is 1232.0\n"
     ]
    }
   ],
   "metadata": {}
  }
 ],
 "metadata": {
  "orig_nbformat": 4,
  "language_info": {
   "name": "python",
   "version": "3.7.1",
   "mimetype": "text/x-python",
   "codemirror_mode": {
    "name": "ipython",
    "version": 3
   },
   "pygments_lexer": "ipython3",
   "nbconvert_exporter": "python",
   "file_extension": ".py"
  },
  "kernelspec": {
   "name": "python3",
   "display_name": "Python 3.7.1 64-bit ('base': conda)"
  },
  "interpreter": {
   "hash": "f5ebe8b5f89e594da2b164f45250d907e894c2b2bd96676d17ecb664326f1bc2"
  }
 },
 "nbformat": 4,
 "nbformat_minor": 2
}