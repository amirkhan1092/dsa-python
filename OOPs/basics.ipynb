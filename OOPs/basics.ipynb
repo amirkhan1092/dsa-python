{
 "cells": [
  {
   "cell_type": "code",
   "execution_count": 2,
   "source": [
    "\"what is class\"\r\n",
    "# a = 123\r\n",
    "a = [1, 2, 3,  4]\r\n",
    "a.__str__()"
   ],
   "outputs": [
    {
     "output_type": "execute_result",
     "data": {
      "text/plain": [
       "'[1, 2, 3, 4]'"
      ]
     },
     "metadata": {},
     "execution_count": 2
    }
   ],
   "metadata": {}
  },
  {
   "cell_type": "code",
   "execution_count": 3,
   "source": [
    "a = 10\r\n",
    "b =30\r\n",
    "a.__lt__(b)"
   ],
   "outputs": [
    {
     "output_type": "execute_result",
     "data": {
      "text/plain": [
       "True"
      ]
     },
     "metadata": {},
     "execution_count": 3
    }
   ],
   "metadata": {}
  },
  {
   "cell_type": "code",
   "execution_count": null,
   "source": [
    "N = int(input())\r\n",
    "V = int(input())\r\n",
    "count = 0\r\n",
    "for i in range(1, N+1):\r\n",
    "    for r in range(1, N+1):\r\n",
    "        if i * r == V:\r\n",
    "            count += 1 \r\n",
    "\r\n",
    "if count:\r\n",
    "    print(count)\r\n",
    "else:\r\n",
    "    print(\"NO POWER\")    \r\n",
    "\r\n"
   ],
   "outputs": [],
   "metadata": {}
  },
  {
   "cell_type": "code",
   "execution_count": 8,
   "source": [
    "import itertools as it\r\n",
    "N = range(1, int(input())+1)\r\n",
    "M = range(1, int(input())+1)\r\n",
    "P = int(input())\r\n",
    "E = int(input())\r\n",
    "\r\n",
    "print(len(list(it.combinations(N, P))))\r\n",
    "print(len(list(it.combinations(M, E))))\r\n",
    "\r\n"
   ],
   "outputs": [
    {
     "output_type": "stream",
     "name": "stdout",
     "text": [
      "1\n",
      "1\n"
     ]
    }
   ],
   "metadata": {}
  }
 ],
 "metadata": {
  "orig_nbformat": 4,
  "language_info": {
   "name": "python",
   "version": "3.7.2",
   "mimetype": "text/x-python",
   "codemirror_mode": {
    "name": "ipython",
    "version": 3
   },
   "pygments_lexer": "ipython3",
   "nbconvert_exporter": "python",
   "file_extension": ".py"
  },
  "kernelspec": {
   "name": "python3",
   "display_name": "Python 3.7.2 32-bit"
  },
  "interpreter": {
   "hash": "8786318122129ba10eb40c9c8a2ede770fe6a9df50dfcd3c6edc33520e4c5279"
  }
 },
 "nbformat": 4,
 "nbformat_minor": 2
}