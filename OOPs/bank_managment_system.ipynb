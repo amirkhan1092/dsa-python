{
 "cells": [
  {
   "cell_type": "code",
   "execution_count": 2,
   "metadata": {},
   "outputs": [
    {
     "name": "stdout",
     "output_type": "stream",
     "text": [
      "Enter the your ATM pin\n"
     ]
    }
   ],
   "source": [
    "\"ATM solution to dispatch the amount \"\n",
    "\n",
    "print(\"Enter the your ATM pin\")\n",
    "pin = input()\n",
    "chance = 3\n",
    "while True:\n",
    "    if pin == '1234':\n",
    "        print(\"Right password, You are great \")\n",
    "        break\n",
    "    else:\n",
    "        pin = input(f\"Enter the password again. attempts left {chance} \")\n",
    "        chance -= 1\n",
    "        if chance <= 0:\n",
    "            break \n",
    "\n"
   ]
  }
 ],
 "metadata": {
  "interpreter": {
   "hash": "ac63e7d2902d829a95718f514f583b39cb52f10e7c5524becb094a341f2ea3ca"
  },
  "kernelspec": {
   "display_name": "Python 3.10.0 64-bit (windows store)",
   "name": "python3"
  },
  "language_info": {
   "codemirror_mode": {
    "name": "ipython",
    "version": 3
   },
   "file_extension": ".py",
   "mimetype": "text/x-python",
   "name": "python",
   "nbconvert_exporter": "python",
   "pygments_lexer": "ipython3",
   "version": "3.10.0"
  },
  "orig_nbformat": 4
 },
 "nbformat": 4,
 "nbformat_minor": 2
}
